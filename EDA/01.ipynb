{
 "cells": [
  {
   "cell_type": "code",
   "execution_count": 25,
   "id": "e2d4fdc4",
   "metadata": {},
   "outputs": [
    {
     "name": "stderr",
     "output_type": "stream",
     "text": [
      "C:\\Users\\playdata\\AppData\\Local\\Temp\\ipykernel_24596\\3501527352.py:15: UserWarning: Could not infer format, so each element will be parsed individually, falling back to `dateutil`. To ensure parsing is consistent and as-expected, please specify a format.\n",
      "  df['date'] = pd.to_datetime(df.date)\n"
     ]
    },
    {
     "data": {
      "text/html": [
       "<div>\n",
       "<style scoped>\n",
       "    .dataframe tbody tr th:only-of-type {\n",
       "        vertical-align: middle;\n",
       "    }\n",
       "\n",
       "    .dataframe tbody tr th {\n",
       "        vertical-align: top;\n",
       "    }\n",
       "\n",
       "    .dataframe thead th {\n",
       "        text-align: right;\n",
       "    }\n",
       "</style>\n",
       "<table border=\"1\" class=\"dataframe\">\n",
       "  <thead>\n",
       "    <tr style=\"text-align: right;\">\n",
       "      <th></th>\n",
       "      <th>date</th>\n",
       "      <th>year</th>\n",
       "      <th>month</th>\n",
       "      <th>day_int</th>\n",
       "      <th>df_str</th>\n",
       "      <th>day_weekend</th>\n",
       "    </tr>\n",
       "  </thead>\n",
       "  <tbody>\n",
       "    <tr>\n",
       "      <th>0</th>\n",
       "      <td>2001-01-25</td>\n",
       "      <td>2001</td>\n",
       "      <td>1</td>\n",
       "      <td>3</td>\n",
       "      <td>목</td>\n",
       "      <td>0</td>\n",
       "    </tr>\n",
       "    <tr>\n",
       "      <th>1</th>\n",
       "      <td>2003-01-25</td>\n",
       "      <td>2003</td>\n",
       "      <td>1</td>\n",
       "      <td>5</td>\n",
       "      <td>토</td>\n",
       "      <td>1</td>\n",
       "    </tr>\n",
       "    <tr>\n",
       "      <th>2</th>\n",
       "      <td>2006-01-25</td>\n",
       "      <td>2006</td>\n",
       "      <td>1</td>\n",
       "      <td>2</td>\n",
       "      <td>수</td>\n",
       "      <td>0</td>\n",
       "    </tr>\n",
       "    <tr>\n",
       "      <th>3</th>\n",
       "      <td>2009-01-25</td>\n",
       "      <td>2009</td>\n",
       "      <td>1</td>\n",
       "      <td>6</td>\n",
       "      <td>일</td>\n",
       "      <td>1</td>\n",
       "    </tr>\n",
       "    <tr>\n",
       "      <th>4</th>\n",
       "      <td>2012-01-25</td>\n",
       "      <td>2012</td>\n",
       "      <td>1</td>\n",
       "      <td>2</td>\n",
       "      <td>수</td>\n",
       "      <td>0</td>\n",
       "    </tr>\n",
       "  </tbody>\n",
       "</table>\n",
       "</div>"
      ],
      "text/plain": [
       "        date  year  month  day_int df_str  day_weekend\n",
       "0 2001-01-25  2001      1        3      목            0\n",
       "1 2003-01-25  2003      1        5      토            1\n",
       "2 2006-01-25  2006      1        2      수            0\n",
       "3 2009-01-25  2009      1        6      일            1\n",
       "4 2012-01-25  2012      1        2      수            0"
      ]
     },
     "execution_count": 25,
     "metadata": {},
     "output_type": "execute_result"
    }
   ],
   "source": [
    "import pandas as pd\n",
    "\n",
    "filepath = '../data/sample.csv'\n",
    "# pd.read_csv(filepath,encoding='cp949')\n",
    "\n",
    "ts_ms = pd.date_range(start = '2025-01-01',end = '2025-10-02', \n",
    "                      periods=100,\n",
    "                      tz = 'Asia/Seoul'\n",
    "                      )\n",
    "data = {'date' : ts_ms.strftime('%y-%m-%d')}\n",
    "df = pd.DataFrame(data)\n",
    "\n",
    "#연도를 추출해서 새로운 컬럼으로 넣기\n",
    "# df.info() # dtype - object로 나옴\n",
    "df['date'] = pd.to_datetime(df.date)\n",
    "df['year'] = df.date.dt.year\n",
    "df['month'] = df.date.dt.month\n",
    "df['day_int'] = df.date.dt.weekday  # 0 월요일\n",
    "\n",
    "def convert_week(x):\n",
    "    temp = ['월' , '화' , '수' , '목' , '금' , '토' , '일']\n",
    "    return temp[x]\n",
    "df['df_str'] = df['day_int'].apply(lambda x : convert_week(x))\n",
    "df.head() # 학습할때는 object X\n",
    "\n",
    "# 주말(토,일) 1 /  나머지는 0_weekend'] = df['day_str\n",
    "df['day_weekend'] = df['df_str'].apply(lambda x: 1 if x in ['토', '일'] else 0)\n",
    "df.head()\n",
    "\n",
    "\n",
    "\n",
    "\n"
   ]
  },
  {
   "cell_type": "code",
   "execution_count": 10,
   "id": "dedd0bcc",
   "metadata": {},
   "outputs": [
    {
     "name": "stdout",
     "output_type": "stream",
     "text": [
      "Collecting holidays\n",
      "  Downloading holidays-0.81-py3-none-any.whl.metadata (49 kB)\n",
      "Requirement already satisfied: python-dateutil in c:\\users\\playdata\\appdata\\roaming\\python\\python313\\site-packages (from holidays) (2.9.0.post0)\n",
      "Requirement already satisfied: six>=1.5 in c:\\users\\playdata\\appdata\\roaming\\python\\python313\\site-packages (from python-dateutil->holidays) (1.17.0)\n",
      "Downloading holidays-0.81-py3-none-any.whl (1.3 MB)\n",
      "   ---------------------------------------- 0.0/1.3 MB ? eta -:--:--\n",
      "   -------- ------------------------------- 0.3/1.3 MB ? eta -:--:--\n",
      "   ---------------------------------------- 1.3/1.3 MB 3.8 MB/s  0:00:00\n",
      "Installing collected packages: holidays\n",
      "Successfully installed holidays-0.81\n",
      "Note: you may need to restart the kernel to use updated packages.\n"
     ]
    }
   ],
   "source": [
    "%pip install holidays"
   ]
  },
  {
   "cell_type": "code",
   "execution_count": 19,
   "id": "98ea9240",
   "metadata": {},
   "outputs": [
    {
     "name": "stdout",
     "output_type": "stream",
     "text": [
      "2025-01-01:신정연휴\n",
      "2025-01-29:설날\n",
      "2025-01-28:설날 전날\n",
      "2025-01-30:설날 다음날\n",
      "2025-03-01:삼일절\n",
      "2025-05-05:부처님오신날; 어린이날\n",
      "2025-06-06:현충일\n",
      "2025-08-15:광복절\n",
      "2025-10-03:개천절\n",
      "2025-10-09:한글날\n",
      "2025-10-06:추석\n",
      "2025-10-05:추석 전날\n",
      "2025-10-07:추석 다음날\n",
      "2025-12-25:기독탄신일\n",
      "2025-03-03:삼일절 대체 휴일\n",
      "2025-05-06:부처님오신날 대체 휴일; 어린이날 대체 휴일\n",
      "2025-10-08:추석 대체 휴일\n",
      "2025-01-27:임시공휴일\n",
      "2025-06-03:대통령 선거일\n",
      "2025-10-10:휴강\n"
     ]
    }
   ],
   "source": [
    "import holidays\n",
    "\n",
    "kr_holiday = holidays.KR(years = [2025])\n",
    "kr_holiday.append({ '2025-10-10' : '휴강' })\n",
    "\n",
    "sorted(kr_holiday.items() , key=lambda x: x[0])#정렬이 안돼서 정렬하긔\n",
    "\n",
    "for key , value in kr_holiday.items():\n",
    "    print(f'{key}:{value}')\n",
    "\n",
    "# 2025년 10월 10일 학원 휴강이니까  추가해보자\n"
   ]
  },
  {
   "cell_type": "code",
   "execution_count": null,
   "id": "b9ec6fa7",
   "metadata": {},
   "outputs": [
    {
     "data": {
      "text/plain": [
       "True"
      ]
     },
     "execution_count": 26,
     "metadata": {},
     "output_type": "execute_result"
    }
   ],
   "source": [
    "df['date'][0] in kr_holiday # 날짜 조회 1번째 방법"
   ]
  },
  {
   "cell_type": "code",
   "execution_count": null,
   "id": "d0795302",
   "metadata": {},
   "outputs": [
    {
     "data": {
      "text/plain": [
       "True"
      ]
     },
     "execution_count": 29,
     "metadata": {},
     "output_type": "execute_result"
    }
   ],
   "source": [
    "pd.to_datetime('2025-01-01') in kr_holiday # 날짜 조회 2번째 방법"
   ]
  },
  {
   "cell_type": "code",
   "execution_count": 22,
   "id": "e1493344",
   "metadata": {},
   "outputs": [
    {
     "data": {
      "text/html": [
       "<div>\n",
       "<style scoped>\n",
       "    .dataframe tbody tr th:only-of-type {\n",
       "        vertical-align: middle;\n",
       "    }\n",
       "\n",
       "    .dataframe tbody tr th {\n",
       "        vertical-align: top;\n",
       "    }\n",
       "\n",
       "    .dataframe thead th {\n",
       "        text-align: right;\n",
       "    }\n",
       "</style>\n",
       "<table border=\"1\" class=\"dataframe\">\n",
       "  <thead>\n",
       "    <tr style=\"text-align: right;\">\n",
       "      <th></th>\n",
       "      <th>date</th>\n",
       "      <th>year</th>\n",
       "      <th>month</th>\n",
       "      <th>day_int</th>\n",
       "      <th>df_str</th>\n",
       "      <th>is_holiday</th>\n",
       "    </tr>\n",
       "  </thead>\n",
       "  <tbody>\n",
       "    <tr>\n",
       "      <th>0</th>\n",
       "      <td>2001-01-25</td>\n",
       "      <td>2001</td>\n",
       "      <td>1</td>\n",
       "      <td>3</td>\n",
       "      <td>목</td>\n",
       "      <td>0</td>\n",
       "    </tr>\n",
       "    <tr>\n",
       "      <th>1</th>\n",
       "      <td>2003-01-25</td>\n",
       "      <td>2003</td>\n",
       "      <td>1</td>\n",
       "      <td>5</td>\n",
       "      <td>토</td>\n",
       "      <td>0</td>\n",
       "    </tr>\n",
       "    <tr>\n",
       "      <th>2</th>\n",
       "      <td>2006-01-25</td>\n",
       "      <td>2006</td>\n",
       "      <td>1</td>\n",
       "      <td>2</td>\n",
       "      <td>수</td>\n",
       "      <td>0</td>\n",
       "    </tr>\n",
       "    <tr>\n",
       "      <th>3</th>\n",
       "      <td>2009-01-25</td>\n",
       "      <td>2009</td>\n",
       "      <td>1</td>\n",
       "      <td>6</td>\n",
       "      <td>일</td>\n",
       "      <td>0</td>\n",
       "    </tr>\n",
       "    <tr>\n",
       "      <th>4</th>\n",
       "      <td>2012-01-25</td>\n",
       "      <td>2012</td>\n",
       "      <td>1</td>\n",
       "      <td>2</td>\n",
       "      <td>수</td>\n",
       "      <td>0</td>\n",
       "    </tr>\n",
       "  </tbody>\n",
       "</table>\n",
       "</div>"
      ],
      "text/plain": [
       "        date  year  month  day_int df_str  is_holiday\n",
       "0 2001-01-25  2001      1        3      목           0\n",
       "1 2003-01-25  2003      1        5      토           0\n",
       "2 2006-01-25  2006      1        2      수           0\n",
       "3 2009-01-25  2009      1        6      일           0\n",
       "4 2012-01-25  2012      1        2      수           0"
      ]
     },
     "execution_count": 22,
     "metadata": {},
     "output_type": "execute_result"
    }
   ],
   "source": [
    "#holiday : 1 , not : 0\n",
    "\n",
    "\n",
    "\n",
    "df['is_holiday'] = 0\n",
    "df.head()\n",
    "\n"
   ]
  }
 ],
 "metadata": {
  "kernelspec": {
   "display_name": "Python 3",
   "language": "python",
   "name": "python3"
  },
  "language_info": {
   "codemirror_mode": {
    "name": "ipython",
    "version": 3
   },
   "file_extension": ".py",
   "mimetype": "text/x-python",
   "name": "python",
   "nbconvert_exporter": "python",
   "pygments_lexer": "ipython3",
   "version": "3.13.7"
  }
 },
 "nbformat": 4,
 "nbformat_minor": 5
}
