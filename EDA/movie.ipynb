{
 "cells": [
  {
   "cell_type": "code",
   "execution_count": 2,
   "id": "8817e5c6",
   "metadata": {},
   "outputs": [
    {
     "data": {
      "text/html": [
       "<div>\n",
       "<style scoped>\n",
       "    .dataframe tbody tr th:only-of-type {\n",
       "        vertical-align: middle;\n",
       "    }\n",
       "\n",
       "    .dataframe tbody tr th {\n",
       "        vertical-align: top;\n",
       "    }\n",
       "\n",
       "    .dataframe thead th {\n",
       "        text-align: right;\n",
       "    }\n",
       "</style>\n",
       "<table border=\"1\" class=\"dataframe\">\n",
       "  <thead>\n",
       "    <tr style=\"text-align: right;\">\n",
       "      <th></th>\n",
       "      <th>0</th>\n",
       "    </tr>\n",
       "  </thead>\n",
       "  <tbody>\n",
       "    <tr>\n",
       "      <th>title</th>\n",
       "      <td>제목</td>\n",
       "    </tr>\n",
       "    <tr>\n",
       "      <th>distributor</th>\n",
       "      <td>배급사</td>\n",
       "    </tr>\n",
       "    <tr>\n",
       "      <th>genre</th>\n",
       "      <td>장르</td>\n",
       "    </tr>\n",
       "    <tr>\n",
       "      <th>release_time</th>\n",
       "      <td>개봉일</td>\n",
       "    </tr>\n",
       "    <tr>\n",
       "      <th>time</th>\n",
       "      <td>상영시간</td>\n",
       "    </tr>\n",
       "    <tr>\n",
       "      <th>screening_rat</th>\n",
       "      <td>상영등급</td>\n",
       "    </tr>\n",
       "    <tr>\n",
       "      <th>director</th>\n",
       "      <td>감독이름</td>\n",
       "    </tr>\n",
       "    <tr>\n",
       "      <th>dir_prev_bfnum</th>\n",
       "      <td>감독 이전작품 평균 관객수</td>\n",
       "    </tr>\n",
       "    <tr>\n",
       "      <th>dir_prev_num</th>\n",
       "      <td>감독 이전 작품수</td>\n",
       "    </tr>\n",
       "    <tr>\n",
       "      <th>num_staff</th>\n",
       "      <td>스탭수</td>\n",
       "    </tr>\n",
       "    <tr>\n",
       "      <th>num_actor</th>\n",
       "      <td>주연배우수</td>\n",
       "    </tr>\n",
       "    <tr>\n",
       "      <th>box_off_num</th>\n",
       "      <td>관객수</td>\n",
       "    </tr>\n",
       "  </tbody>\n",
       "</table>\n",
       "</div>"
      ],
      "text/plain": [
       "                             0\n",
       "title                       제목\n",
       "distributor                배급사\n",
       "genre                       장르\n",
       "release_time               개봉일\n",
       "time                      상영시간\n",
       "screening_rat             상영등급\n",
       "director                  감독이름\n",
       "dir_prev_bfnum  감독 이전작품 평균 관객수\n",
       "dir_prev_num         감독 이전 작품수\n",
       "num_staff                  스탭수\n",
       "num_actor                주연배우수\n",
       "box_off_num                관객수"
      ]
     },
     "execution_count": 2,
     "metadata": {},
     "output_type": "execute_result"
    }
   ],
   "source": [
    "import pandas as pd\n",
    "url = 'https://raw.githubusercontent.com/pia222sk20/python/refs/heads/main/data/movies_train.csv'\n",
    "df = pd.read_csv(url)\n",
    "col_discription = ['제목','배급사','장르','개봉일','상영시간','상영등급','감독이름','감독 이전작품 평균 관객수', '감독 이전 작품수', '스탭수', '주연배우수', '관객수']\n",
    "df.columns\n",
    "pd.DataFrame(col_discription,index=df.columns)"
   ]
  },
  {
   "cell_type": "code",
   "execution_count": null,
   "id": "946ecbcb",
   "metadata": {},
   "outputs": [],
   "source": [
    "# 결측치가 있는 데이터의 감독은 누구?\n",
    "# 결측치 주변 데이터를 확인 후 살릴지 , 죽일지 선택.\n",
    "# 결측치가 생긴 원인 파악 후 이전 영화가 없는 감독이면 정상적인 데이터  NA -> 0으로 대체해야함"
   ]
  },
  {
   "cell_type": "code",
   "execution_count": 9,
   "id": "3c12e200",
   "metadata": {},
   "outputs": [
    {
     "name": "stdout",
     "output_type": "stream",
     "text": [
      "<class 'pandas.core.frame.DataFrame'>\n",
      "RangeIndex: 600 entries, 0 to 599\n",
      "Data columns (total 12 columns):\n",
      " #   Column          Non-Null Count  Dtype  \n",
      "---  ------          --------------  -----  \n",
      " 0   title           600 non-null    object \n",
      " 1   distributor     600 non-null    object \n",
      " 2   genre           600 non-null    object \n",
      " 3   release_time    600 non-null    object \n",
      " 4   time            600 non-null    int64  \n",
      " 5   screening_rat   600 non-null    object \n",
      " 6   director        600 non-null    object \n",
      " 7   dir_prev_bfnum  270 non-null    float64\n",
      " 8   dir_prev_num    600 non-null    int64  \n",
      " 9   num_staff       600 non-null    int64  \n",
      " 10  num_actor       600 non-null    int64  \n",
      " 11  box_off_num     600 non-null    int64  \n",
      "dtypes: float64(1), int64(5), object(6)\n",
      "memory usage: 56.4+ KB\n"
     ]
    }
   ],
   "source": [
    "df.info()\n",
    "# 정보 먼저 보면 dir_prev_bfnum 결측치 있는 coloumns 임."
   ]
  },
  {
   "cell_type": "code",
   "execution_count": null,
   "id": "11953d46",
   "metadata": {},
   "outputs": [
    {
     "data": {
      "text/html": [
       "<div>\n",
       "<style scoped>\n",
       "    .dataframe tbody tr th:only-of-type {\n",
       "        vertical-align: middle;\n",
       "    }\n",
       "\n",
       "    .dataframe tbody tr th {\n",
       "        vertical-align: top;\n",
       "    }\n",
       "\n",
       "    .dataframe thead th {\n",
       "        text-align: right;\n",
       "    }\n",
       "</style>\n",
       "<table border=\"1\" class=\"dataframe\">\n",
       "  <thead>\n",
       "    <tr style=\"text-align: right;\">\n",
       "      <th></th>\n",
       "      <th>title</th>\n",
       "      <th>distributor</th>\n",
       "      <th>genre</th>\n",
       "      <th>release_time</th>\n",
       "      <th>time</th>\n",
       "      <th>screening_rat</th>\n",
       "      <th>director</th>\n",
       "      <th>dir_prev_bfnum</th>\n",
       "      <th>dir_prev_num</th>\n",
       "      <th>num_staff</th>\n",
       "      <th>num_actor</th>\n",
       "      <th>box_off_num</th>\n",
       "    </tr>\n",
       "  </thead>\n",
       "  <tbody>\n",
       "    <tr>\n",
       "      <th>0</th>\n",
       "      <td>개들의 전쟁</td>\n",
       "      <td>롯데엔터테인먼트</td>\n",
       "      <td>액션</td>\n",
       "      <td>2012-11-22</td>\n",
       "      <td>96</td>\n",
       "      <td>청소년 관람불가</td>\n",
       "      <td>조병옥</td>\n",
       "      <td>NaN</td>\n",
       "      <td>0</td>\n",
       "      <td>91</td>\n",
       "      <td>2</td>\n",
       "      <td>23398</td>\n",
       "    </tr>\n",
       "    <tr>\n",
       "      <th>6</th>\n",
       "      <td>길위에서</td>\n",
       "      <td>백두대간</td>\n",
       "      <td>다큐멘터리</td>\n",
       "      <td>2013-05-23</td>\n",
       "      <td>104</td>\n",
       "      <td>전체 관람가</td>\n",
       "      <td>이창재</td>\n",
       "      <td>NaN</td>\n",
       "      <td>0</td>\n",
       "      <td>32</td>\n",
       "      <td>5</td>\n",
       "      <td>53526</td>\n",
       "    </tr>\n",
       "    <tr>\n",
       "      <th>8</th>\n",
       "      <td>1789, 바스티유의 연인들</td>\n",
       "      <td>유니버설픽쳐스인터내셔널코리아</td>\n",
       "      <td>뮤지컬</td>\n",
       "      <td>2014-09-18</td>\n",
       "      <td>129</td>\n",
       "      <td>전체 관람가</td>\n",
       "      <td>정성복</td>\n",
       "      <td>NaN</td>\n",
       "      <td>0</td>\n",
       "      <td>3</td>\n",
       "      <td>5</td>\n",
       "      <td>4778</td>\n",
       "    </tr>\n",
       "    <tr>\n",
       "      <th>9</th>\n",
       "      <td>청춘그루브</td>\n",
       "      <td>(주)두타연</td>\n",
       "      <td>드라마</td>\n",
       "      <td>2012-03-15</td>\n",
       "      <td>94</td>\n",
       "      <td>15세 관람가</td>\n",
       "      <td>변성현</td>\n",
       "      <td>NaN</td>\n",
       "      <td>0</td>\n",
       "      <td>138</td>\n",
       "      <td>3</td>\n",
       "      <td>868</td>\n",
       "    </tr>\n",
       "    <tr>\n",
       "      <th>10</th>\n",
       "      <td>AV 아이돌</td>\n",
       "      <td>(주) 케이알씨지</td>\n",
       "      <td>멜로/로맨스</td>\n",
       "      <td>2015-07-27</td>\n",
       "      <td>89</td>\n",
       "      <td>청소년 관람불가</td>\n",
       "      <td>조조 히데오</td>\n",
       "      <td>NaN</td>\n",
       "      <td>0</td>\n",
       "      <td>0</td>\n",
       "      <td>4</td>\n",
       "      <td>745</td>\n",
       "    </tr>\n",
       "    <tr>\n",
       "      <th>...</th>\n",
       "      <td>...</td>\n",
       "      <td>...</td>\n",
       "      <td>...</td>\n",
       "      <td>...</td>\n",
       "      <td>...</td>\n",
       "      <td>...</td>\n",
       "      <td>...</td>\n",
       "      <td>...</td>\n",
       "      <td>...</td>\n",
       "      <td>...</td>\n",
       "      <td>...</td>\n",
       "      <td>...</td>\n",
       "    </tr>\n",
       "    <tr>\n",
       "      <th>593</th>\n",
       "      <td>낭만파 남편의 편지</td>\n",
       "      <td>퍼스트런</td>\n",
       "      <td>미스터리</td>\n",
       "      <td>2013-09-12</td>\n",
       "      <td>97</td>\n",
       "      <td>청소년 관람불가</td>\n",
       "      <td>최위안</td>\n",
       "      <td>NaN</td>\n",
       "      <td>0</td>\n",
       "      <td>5</td>\n",
       "      <td>3</td>\n",
       "      <td>1132</td>\n",
       "    </tr>\n",
       "    <tr>\n",
       "      <th>594</th>\n",
       "      <td>오빠가 돌아왔다</td>\n",
       "      <td>(주)마운틴픽쳐스</td>\n",
       "      <td>코미디</td>\n",
       "      <td>2014-03-20</td>\n",
       "      <td>94</td>\n",
       "      <td>청소년 관람불가</td>\n",
       "      <td>노진수</td>\n",
       "      <td>NaN</td>\n",
       "      <td>0</td>\n",
       "      <td>37</td>\n",
       "      <td>5</td>\n",
       "      <td>1958</td>\n",
       "    </tr>\n",
       "    <tr>\n",
       "      <th>597</th>\n",
       "      <td>살인의 강</td>\n",
       "      <td>(주)마운틴픽쳐스</td>\n",
       "      <td>공포</td>\n",
       "      <td>2010-09-30</td>\n",
       "      <td>99</td>\n",
       "      <td>청소년 관람불가</td>\n",
       "      <td>김대현</td>\n",
       "      <td>NaN</td>\n",
       "      <td>0</td>\n",
       "      <td>123</td>\n",
       "      <td>4</td>\n",
       "      <td>2475</td>\n",
       "    </tr>\n",
       "    <tr>\n",
       "      <th>598</th>\n",
       "      <td>악의 연대기</td>\n",
       "      <td>CJ 엔터테인먼트</td>\n",
       "      <td>느와르</td>\n",
       "      <td>2015-05-14</td>\n",
       "      <td>102</td>\n",
       "      <td>15세 관람가</td>\n",
       "      <td>백운학</td>\n",
       "      <td>NaN</td>\n",
       "      <td>0</td>\n",
       "      <td>431</td>\n",
       "      <td>4</td>\n",
       "      <td>2192525</td>\n",
       "    </tr>\n",
       "    <tr>\n",
       "      <th>599</th>\n",
       "      <td>베를린</td>\n",
       "      <td>CJ 엔터테인먼트</td>\n",
       "      <td>액션</td>\n",
       "      <td>2013-01-30</td>\n",
       "      <td>120</td>\n",
       "      <td>15세 관람가</td>\n",
       "      <td>류승완</td>\n",
       "      <td>NaN</td>\n",
       "      <td>0</td>\n",
       "      <td>363</td>\n",
       "      <td>5</td>\n",
       "      <td>7166532</td>\n",
       "    </tr>\n",
       "  </tbody>\n",
       "</table>\n",
       "<p>330 rows × 12 columns</p>\n",
       "</div>"
      ],
      "text/plain": [
       "               title      distributor   genre release_time  time  \\\n",
       "0             개들의 전쟁         롯데엔터테인먼트      액션   2012-11-22    96   \n",
       "6               길위에서             백두대간   다큐멘터리   2013-05-23   104   \n",
       "8    1789, 바스티유의 연인들  유니버설픽쳐스인터내셔널코리아     뮤지컬   2014-09-18   129   \n",
       "9              청춘그루브           (주)두타연     드라마   2012-03-15    94   \n",
       "10            AV 아이돌        (주) 케이알씨지  멜로/로맨스   2015-07-27    89   \n",
       "..               ...              ...     ...          ...   ...   \n",
       "593       낭만파 남편의 편지             퍼스트런    미스터리   2013-09-12    97   \n",
       "594         오빠가 돌아왔다        (주)마운틴픽쳐스     코미디   2014-03-20    94   \n",
       "597            살인의 강        (주)마운틴픽쳐스      공포   2010-09-30    99   \n",
       "598           악의 연대기        CJ 엔터테인먼트     느와르   2015-05-14   102   \n",
       "599              베를린        CJ 엔터테인먼트      액션   2013-01-30   120   \n",
       "\n",
       "    screening_rat director  dir_prev_bfnum  dir_prev_num  num_staff  \\\n",
       "0        청소년 관람불가      조병옥             NaN             0         91   \n",
       "6          전체 관람가      이창재             NaN             0         32   \n",
       "8          전체 관람가      정성복             NaN             0          3   \n",
       "9         15세 관람가      변성현             NaN             0        138   \n",
       "10       청소년 관람불가   조조 히데오             NaN             0          0   \n",
       "..            ...      ...             ...           ...        ...   \n",
       "593      청소년 관람불가      최위안             NaN             0          5   \n",
       "594      청소년 관람불가      노진수             NaN             0         37   \n",
       "597      청소년 관람불가      김대현             NaN             0        123   \n",
       "598       15세 관람가      백운학             NaN             0        431   \n",
       "599       15세 관람가      류승완             NaN             0        363   \n",
       "\n",
       "     num_actor  box_off_num  \n",
       "0            2        23398  \n",
       "6            5        53526  \n",
       "8            5         4778  \n",
       "9            3          868  \n",
       "10           4          745  \n",
       "..         ...          ...  \n",
       "593          3         1132  \n",
       "594          5         1958  \n",
       "597          4         2475  \n",
       "598          4      2192525  \n",
       "599          5      7166532  \n",
       "\n",
       "[330 rows x 12 columns]"
      ]
     },
     "execution_count": 11,
     "metadata": {},
     "output_type": "execute_result"
    }
   ],
   "source": [
    "df[df['dir_prev_bfnum'].isna()] # 감독 이전 작품 개수"
   ]
  },
  {
   "cell_type": "code",
   "execution_count": 13,
   "id": "c8720778",
   "metadata": {},
   "outputs": [
    {
     "data": {
      "text/plain": [
       "title               0\n",
       "distributor         0\n",
       "genre               0\n",
       "release_time        0\n",
       "time                0\n",
       "screening_rat       0\n",
       "director            0\n",
       "dir_prev_bfnum    330\n",
       "dir_prev_num        0\n",
       "num_staff           0\n",
       "num_actor           0\n",
       "box_off_num         0\n",
       "dtype: int64"
      ]
     },
     "execution_count": 13,
     "metadata": {},
     "output_type": "execute_result"
    }
   ],
   "source": [
    "df.fillna(0)\n",
    "df.isna().sum()"
   ]
  },
  {
   "cell_type": "code",
   "execution_count": 17,
   "id": "c9752a33",
   "metadata": {},
   "outputs": [
    {
     "data": {
      "text/plain": [
       "title             0.00\n",
       "distributor       0.00\n",
       "genre             0.00\n",
       "release_time      0.00\n",
       "time              0.00\n",
       "screening_rat     0.00\n",
       "director          0.00\n",
       "dir_prev_bfnum    0.55\n",
       "dir_prev_num      0.00\n",
       "num_staff         0.00\n",
       "num_actor         0.00\n",
       "box_off_num       0.00\n",
       "dtype: float64"
      ]
     },
     "execution_count": 17,
     "metadata": {},
     "output_type": "execute_result"
    }
   ],
   "source": [
    "df.isna().mean()"
   ]
  },
  {
   "cell_type": "code",
   "execution_count": null,
   "id": "4231a679",
   "metadata": {},
   "outputs": [
    {
     "data": {
      "text/html": [
       "<div>\n",
       "<style scoped>\n",
       "    .dataframe tbody tr th:only-of-type {\n",
       "        vertical-align: middle;\n",
       "    }\n",
       "\n",
       "    .dataframe tbody tr th {\n",
       "        vertical-align: top;\n",
       "    }\n",
       "\n",
       "    .dataframe thead th {\n",
       "        text-align: right;\n",
       "    }\n",
       "</style>\n",
       "<table border=\"1\" class=\"dataframe\">\n",
       "  <thead>\n",
       "    <tr style=\"text-align: right;\">\n",
       "      <th></th>\n",
       "      <th>time</th>\n",
       "      <th>dir_prev_bfnum</th>\n",
       "      <th>dir_prev_num</th>\n",
       "      <th>num_staff</th>\n",
       "      <th>num_actor</th>\n",
       "      <th>box_off_num</th>\n",
       "    </tr>\n",
       "  </thead>\n",
       "  <tbody>\n",
       "    <tr>\n",
       "      <th>count</th>\n",
       "      <td>600.000000</td>\n",
       "      <td>2.700000e+02</td>\n",
       "      <td>600.000000</td>\n",
       "      <td>600.000000</td>\n",
       "      <td>600.000000</td>\n",
       "      <td>6.000000e+02</td>\n",
       "    </tr>\n",
       "    <tr>\n",
       "      <th>mean</th>\n",
       "      <td>100.863333</td>\n",
       "      <td>1.050443e+06</td>\n",
       "      <td>0.876667</td>\n",
       "      <td>151.118333</td>\n",
       "      <td>3.706667</td>\n",
       "      <td>7.081818e+05</td>\n",
       "    </tr>\n",
       "    <tr>\n",
       "      <th>std</th>\n",
       "      <td>18.097528</td>\n",
       "      <td>1.791408e+06</td>\n",
       "      <td>1.183409</td>\n",
       "      <td>165.654671</td>\n",
       "      <td>2.446889</td>\n",
       "      <td>1.828006e+06</td>\n",
       "    </tr>\n",
       "    <tr>\n",
       "      <th>min</th>\n",
       "      <td>45.000000</td>\n",
       "      <td>1.000000e+00</td>\n",
       "      <td>0.000000</td>\n",
       "      <td>0.000000</td>\n",
       "      <td>0.000000</td>\n",
       "      <td>1.000000e+00</td>\n",
       "    </tr>\n",
       "    <tr>\n",
       "      <th>25%</th>\n",
       "      <td>89.000000</td>\n",
       "      <td>2.038000e+04</td>\n",
       "      <td>0.000000</td>\n",
       "      <td>17.000000</td>\n",
       "      <td>2.000000</td>\n",
       "      <td>1.297250e+03</td>\n",
       "    </tr>\n",
       "    <tr>\n",
       "      <th>50%</th>\n",
       "      <td>100.000000</td>\n",
       "      <td>4.784236e+05</td>\n",
       "      <td>0.000000</td>\n",
       "      <td>82.500000</td>\n",
       "      <td>3.000000</td>\n",
       "      <td>1.259100e+04</td>\n",
       "    </tr>\n",
       "    <tr>\n",
       "      <th>75%</th>\n",
       "      <td>114.000000</td>\n",
       "      <td>1.286569e+06</td>\n",
       "      <td>2.000000</td>\n",
       "      <td>264.000000</td>\n",
       "      <td>4.000000</td>\n",
       "      <td>4.798868e+05</td>\n",
       "    </tr>\n",
       "    <tr>\n",
       "      <th>max</th>\n",
       "      <td>180.000000</td>\n",
       "      <td>1.761531e+07</td>\n",
       "      <td>5.000000</td>\n",
       "      <td>869.000000</td>\n",
       "      <td>25.000000</td>\n",
       "      <td>1.426277e+07</td>\n",
       "    </tr>\n",
       "  </tbody>\n",
       "</table>\n",
       "</div>"
      ],
      "text/plain": [
       "             time  dir_prev_bfnum  dir_prev_num   num_staff   num_actor  \\\n",
       "count  600.000000    2.700000e+02    600.000000  600.000000  600.000000   \n",
       "mean   100.863333    1.050443e+06      0.876667  151.118333    3.706667   \n",
       "std     18.097528    1.791408e+06      1.183409  165.654671    2.446889   \n",
       "min     45.000000    1.000000e+00      0.000000    0.000000    0.000000   \n",
       "25%     89.000000    2.038000e+04      0.000000   17.000000    2.000000   \n",
       "50%    100.000000    4.784236e+05      0.000000   82.500000    3.000000   \n",
       "75%    114.000000    1.286569e+06      2.000000  264.000000    4.000000   \n",
       "max    180.000000    1.761531e+07      5.000000  869.000000   25.000000   \n",
       "\n",
       "        box_off_num  \n",
       "count  6.000000e+02  \n",
       "mean   7.081818e+05  \n",
       "std    1.828006e+06  \n",
       "min    1.000000e+00  \n",
       "25%    1.297250e+03  \n",
       "50%    1.259100e+04  \n",
       "75%    4.798868e+05  \n",
       "max    1.426277e+07  "
      ]
     },
     "execution_count": 14,
     "metadata": {},
     "output_type": "execute_result"
    }
   ],
   "source": [
    "df.describe() # 수치형 데이터"
   ]
  },
  {
   "cell_type": "markdown",
   "id": "2a287423",
   "metadata": {},
   "source": [
    "수치형 데이터"
   ]
  },
  {
   "cell_type": "code",
   "execution_count": 16,
   "id": "de08a720",
   "metadata": {},
   "outputs": [
    {
     "data": {
      "text/plain": [
       "<Axes: >"
      ]
     },
     "execution_count": 16,
     "metadata": {},
     "output_type": "execute_result"
    },
    {
     "data": {
      "image/png": "[encoded data removed]",
      "text/plain": [
       "<Figure size 1200x500 with 1 Axes>"
      ]
     },
     "metadata": {},
     "output_type": "display_data"
    }
   ],
   "source": [
    "import seaborn as sns\n",
    "import matplotlib.pylab as plt\n",
    "\n",
    "plt.figure(figsize=(12,5))\n",
    "sns.boxplot(data=df)"
   ]
  },
  {
   "cell_type": "code",
   "execution_count": 18,
   "id": "6a8513fe",
   "metadata": {},
   "outputs": [
    {
     "data": {
      "text/plain": [
       "<Axes: >"
      ]
     },
     "execution_count": 18,
     "metadata": {},
     "output_type": "execute_result"
    },
    {
     "data": {
      "image/png": "[encoded data removed]",
      "text/plain": [
       "<Figure size 640x480 with 1 Axes>"
      ]
     },
     "metadata": {},
     "output_type": "display_data"
    }
   ],
   "source": [
    "df.box_off_num.hist()"
   ]
  },
  {
   "cell_type": "code",
   "execution_count": null,
   "id": "2d85371c",
   "metadata": {},
   "outputs": [],
   "source": [
    "# 데이터 분포특성\n",
    "# 왼쪽으로 치우쳐져서 오른쪽 꼬리가 긴 형태 (대부분의 관객수는 5만명대에 형성되어 있음)\n",
    "# outliner가 많고 크다 / 즉, 히트작의 영향이 크다"
   ]
  },
  {
   "cell_type": "code",
   "execution_count": null,
   "id": "35c325ac",
   "metadata": {},
   "outputs": [
    {
     "data": {
      "text/plain": [
       "<Axes: >"
      ]
     },
     "execution_count": 20,
     "metadata": {},
     "output_type": "execute_result"
    },
    {
     "data": {
      "image/png": "[encoded data removed]",
      "text/plain": [
       "<Figure size 640x480 with 2 Axes>"
      ]
     },
     "metadata": {},
     "output_type": "display_data"
    }
   ],
   "source": [
    "# 관객수 예측하는 데이터\n",
    "# 관객수 box_off_num  과 높은 상관관계를 가지는 변수를 \n",
    "\n",
    "corr = df.corr(method = 'spearman',numeric_only=True)\n",
    "sns.heatmap(corr,annot = True,cmap='coolwarm')\n",
    "# 관객수는 상영시간과 스탭수에서 높은 상관관계를 나타냄!\n",
    "# 상영시간이 길수로 관객수가 증간하는 경향"
   ]
  },
  {
   "cell_type": "markdown",
   "id": "be7ea2db",
   "metadata": {},
   "source": [
    "범주형 데이터 _ 변수 분석"
   ]
  },
  {
   "cell_type": "code",
   "execution_count": null,
   "id": "0cba5b50",
   "metadata": {},
   "outputs": [],
   "source": [
    "df.describe(include=['object','category'])"
   ]
  },
  {
   "cell_type": "code",
   "execution_count": 24,
   "id": "e3ae3edc",
   "metadata": {},
   "outputs": [
    {
     "data": {
      "text/plain": [
       "np.float64(0.4414523915408284)"
      ]
     },
     "execution_count": 24,
     "metadata": {},
     "output_type": "execute_result"
    }
   ],
   "source": [
    "df['box_off_num'].corr(df['time'])\n"
   ]
  },
  {
   "cell_type": "code",
   "execution_count": 25,
   "id": "3042caca",
   "metadata": {},
   "outputs": [
    {
     "data": {
      "text/plain": [
       "np.float64(0.6094410730461675)"
      ]
     },
     "execution_count": 25,
     "metadata": {},
     "output_type": "execute_result"
    }
   ],
   "source": [
    "df['box_off_num'].corr(df['time'],method='spearman')"
   ]
  },
  {
   "cell_type": "markdown",
   "id": "d6d71787",
   "metadata": {},
   "source": [
    "상관계수\n",
    "'''\n",
    "상관계수 :  두 변수간의 관계 강도와 방향을 측정하는 통계지표\n",
    "피어슨 상관계수 : 선형관계를 측정, 데이터가 정규분포를 따르고 선형일때 \n",
    "스피어 상관계수 : 순위기반이면서 비선형관계나 또는 순서데이터 (예: 순위 , 순서나 크기)\n",
    "공톹점 : -1 과 1 사이\n",
    "'''\n",
    "![image.png]\n",
    "'''\n",
    "피어슨 상관계수\n",
    "두 변수 x,y의 공분산을 각 변수의 표준편차로 나눈 값\n",
    "1. 각 변수의 평균을 계산 ( ☆ 주로 평균을 가지고 계산한다 ☆ ) 평균은 이상치에 영향을 미침\n",
    "2. 각 데이터의 포인트에서 평균을 뺀 값을 계산\n",
    "3. 편차들의 곱의 합을 구해서 제곱? (공분산에서 분자 계산) = 분자가 됨. 제곱하는 이유는 절댓값 ( - 없앨라고. )\n",
    "4. 분자 / (분모의 제곱근)으로 계산\n",
    "'''\n",
    "데이터가 연속적이고 선영 관계에 적합\n"
   ]
  },
  {
   "cell_type": "markdown",
   "id": "7a25e692",
   "metadata": {},
   "source": [
    "스피어만 상관계수\n",
    "'''\n",
    "두 변수의 순위(rank)를 변환한 후 적용 - 실제데이터 값 대신에 순위를 사용\n",
    "'''\n",
    "\n",
    "'''\n",
    "1. 각 변수 x와 y 의 데이터를 오름차순으로 정렬해 순위 ㅂ주여 (동점 평균 순위 사용)\n",
    "2. 각 데이터 쌍의 순위 차이 (di = rankx - ranky)\n",
    "3. di^2합 계산\n",
    "4. 1 - ( di^2 합 계산 / n(n(n^2-1)))    응????\n",
    "'''\n",
    "이상치나 비선형 관계에 적합\n",
    "\n",
    "\n"
   ]
  },
  {
   "cell_type": "code",
   "execution_count": null,
   "id": "8c76fe1f",
   "metadata": {},
   "outputs": [
    {
     "data": {
      "text/plain": [
       "np.float64(0.9696167281728243)"
      ]
     },
     "execution_count": 36,
     "metadata": {},
     "output_type": "execute_result"
    }
   ],
   "source": [
    "# x(온도) , y(아이스크림 판매량)\n",
    "import numpy as np\n",
    "\n",
    "x = np.array([25,25,30,36,40])\n",
    "y = np.array([10,15,20,25,30])\n",
    "x_mean = x.mean()\n",
    "y_mean = y.mean()\n",
    "\n",
    "# x , y 편차\n",
    "x_ = x - x_mean\n",
    "y_ = y - y_mean\n",
    "# 편차의 곱 합\n",
    "(x_ * y_).sum()\n",
    "\n",
    "# 편차의 제곱의 합\n",
    "(x_**2).sum() , (y_**2).sum()\n",
    "\n",
    "# 분모\n",
    "(x_**2).sum() * (y_**2).sum()\n",
    "np.sqrt((x_**2).sum() * (y_**2).sum()) # sqrt =  루트 명령..\n",
    "\n",
    "(x_ * y_).sum() / np.sqrt((x_**2).sum() * (y_**2).sum())\n",
    "\n",
    "# 1이 아닌 0.998    /   1에 가까울수록 이상치 안정적.\n"
   ]
  },
  {
   "cell_type": "code",
   "execution_count": 37,
   "id": "05ae8e14",
   "metadata": {},
   "outputs": [
    {
     "data": {
      "text/plain": [
       "<matplotlib.collections.PathCollection at 0x1aca65b7250>"
      ]
     },
     "execution_count": 37,
     "metadata": {},
     "output_type": "execute_result"
    },
    {
     "data": {
      "image/png": "[encoded data removed]",
      "text/plain": [
       "<Figure size 640x480 with 1 Axes>"
      ]
     },
     "metadata": {},
     "output_type": "display_data"
    }
   ],
   "source": [
    "import matplotlib.pylab as plt\n",
    "\n",
    "plt.scatter(x,y)"
   ]
  },
  {
   "cell_type": "code",
   "execution_count": 38,
   "id": "75e0ec4a",
   "metadata": {},
   "outputs": [],
   "source": [
    "#\n",
    "#\n",
    "#"
   ]
  },
  {
   "cell_type": "code",
   "execution_count": null,
   "id": "b81d03ea",
   "metadata": {},
   "outputs": [],
   "source": []
  }
 ],
 "metadata": {
  "kernelspec": {
   "display_name": "Python 3",
   "language": "python",
   "name": "python3"
  },
  "language_info": {
   "codemirror_mode": {
    "name": "ipython",
    "version": 3
   },
   "file_extension": ".py",
   "mimetype": "text/x-python",
   "name": "python",
   "nbconvert_exporter": "python",
   "pygments_lexer": "ipython3",
   "version": "3.13.7"
  }
 },
 "nbformat": 4,
 "nbformat_minor": 5
}
