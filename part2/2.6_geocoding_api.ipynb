{
 "cells": [
  {
   "cell_type": "code",
<<<<<<< HEAD
   "execution_count": 116,
   "metadata": {},
   "outputs": [
    {
     "name": "stdout",
     "output_type": "stream",
     "text": [
      "Requirement already satisfied: dotenv in c:\\users\\playdata\\appdata\\local\\programs\\python\\python313\\lib\\site-packages (0.9.9)\n",
      "Requirement already satisfied: python-dotenv in c:\\users\\playdata\\appdata\\local\\programs\\python\\python313\\lib\\site-packages (from dotenv) (1.1.1)\n",
      "Note: you may need to restart the kernel to use updated packages.\n"
     ]
    }
   ],
   "source": [
    "%pip install dotenv"
   ]
  },
  {
   "cell_type": "code",
   "execution_count": 117,
=======
   "execution_count": 1,
>>>>>>> 492b8c55dc7632e22155f0ec3ceabdbea83d10ad
   "metadata": {
    "executionInfo": {
     "elapsed": 2337,
     "status": "ok",
     "timestamp": 1706180950836,
     "user": {
      "displayName": "Steve",
      "userId": "13015281013241816762"
     },
     "user_tz": -540
    },
    "id": "PSJ0UQVYOkXc",
    "tags": []
   },
   "outputs": [],
   "source": [
    "# 라이브러리 가져오기\n",
    "import requests\n",
<<<<<<< HEAD
    "import pandas as pd\n",
    "import os\n",
    "import dotenv"
=======
    "import pandas as pd"
>>>>>>> 492b8c55dc7632e22155f0ec3ceabdbea83d10ad
   ]
  },
  {
   "cell_type": "code",
<<<<<<< HEAD
   "execution_count": 118,
   "metadata": {},
   "outputs": [
    {
     "data": {
      "text/plain": [
       "'81b40'"
      ]
     },
     "execution_count": 118,
     "metadata": {},
     "output_type": "execute_result"
    }
   ],
   "source": [
    "dotenv.load_dotenv()\n",
    "my_key = os.getenv('kakao')\n",
    "my_key[:5]"
   ]
  },
  {
   "cell_type": "code",
   "execution_count": 119,
=======
   "execution_count": 2,
>>>>>>> 492b8c55dc7632e22155f0ec3ceabdbea83d10ad
   "metadata": {
    "tags": []
   },
   "outputs": [],
   "source": [
<<<<<<< HEAD
    "# my_key = \"----발급받은 API 키를 입력-----\""
=======
    "my_key = \"----발급받은 API 키를 입력-----\""
>>>>>>> 492b8c55dc7632e22155f0ec3ceabdbea83d10ad
   ]
  },
  {
   "cell_type": "code",
<<<<<<< HEAD
   "execution_count": 120,
=======
   "execution_count": 3,
>>>>>>> 492b8c55dc7632e22155f0ec3ceabdbea83d10ad
   "metadata": {
    "tags": []
   },
   "outputs": [],
   "source": [
    "# Kakao Map API 통해 위도, 경도 데이터 가져오는 함수를 정의\n",
    "def get_geocoding(place):\n",
<<<<<<< HEAD
    "    try:\n",
    "        url = f\"https://dapi.kakao.com/v2/local/search/address\" # kakao 가서 API 받아와야함. 주소 있어야함. -> 발급하는 API 키가 있어야함.requests.get으로 API 호출 / 간혹 header 정보를 요구하는 곳도 있음,\n",
    "        headers = {\"Authorization\": f\"KakaoAK {my_key}\"} # header 정보 명시하는 방법\n",
    "        params = {\n",
    "            'query' : place, # query에 원하는 정보 입력하면 됨\n",
    "        }\n",
    "        response = requests.get(url, headers=headers,params=params) # 이 줄은 무조건 써줘야힘.\n",
    "        result = response.json()\n",
    "        if result[\"documents\"]:\n",
    "            return result[\"documents\"][0][\"y\"], result[\"documents\"][0][\"x\"] # 위도 , 경도 값을 return 함.\n",
    "        else:\n",
    "                return None,None\n",
    "    except:\n",
    "        return None,None #결측치 (데이터 없음 또는 유효하지 않은 데이터) NaN"
=======
    "    url = f\"https://dapi.kakao.com/v2/local/search/address.json?query={place}\"\n",
    "    headers = {\"Authorization\": f\"KakaoAK {my_key}\"}\n",
    "    response = requests.get(url, headers=headers)\n",
    "    result = response.json()\n",
    "    return result[\"documents\"][0][\"y\"], result[\"documents\"][0][\"x\"]"
>>>>>>> 492b8c55dc7632e22155f0ec3ceabdbea83d10ad
   ]
  },
  {
   "cell_type": "code",
<<<<<<< HEAD
   "execution_count": 121,
   "metadata": {},
   "outputs": [
    {
     "data": {
      "text/plain": [
       "{'documents': [{'address': {'address_name': '서울 동대문구',\n",
       "    'b_code': '1123000000',\n",
       "    'h_code': '1123000000',\n",
       "    'main_address_no': '',\n",
       "    'mountain_yn': 'N',\n",
       "    'region_1depth_name': '서울',\n",
       "    'region_2depth_name': '동대문구',\n",
       "    'region_3depth_h_name': '',\n",
       "    'region_3depth_name': '',\n",
       "    'sub_address_no': '',\n",
       "    'x': '127.039657001091',\n",
       "    'y': '37.574522981712'},\n",
       "   'address_name': '서울 동대문구',\n",
       "   'address_type': 'REGION',\n",
       "   'road_address': None,\n",
       "   'x': '127.039657001091',\n",
       "   'y': '37.574522981712'}],\n",
       " 'meta': {'is_end': True, 'pageable_count': 1, 'total_count': 1}}"
      ]
     },
     "execution_count": 121,
     "metadata": {},
     "output_type": "execute_result"
    }
   ],
   "source": [
    "FORMAT = 'JSON'\n",
    "url = f\"https://dapi.kakao.com/v2/local/search/address\"\n",
    "headers = {\n",
    "    'Authorization': f'KakaoAK {my_key}'\n",
    "}\n",
    "params = {\n",
    "    'query' : '서울시 동대문구'\n",
    "}\n",
    "response = requests.get(url, headers=headers,params=params)\n",
    "result = response.json()\n",
    "result"
   ]
  },
  {
   "cell_type": "code",
   "execution_count": 122,
=======
   "execution_count": 4,
>>>>>>> 492b8c55dc7632e22155f0ec3ceabdbea83d10ad
   "metadata": {
    "tags": []
   },
   "outputs": [
    {
     "name": "stdout",
     "output_type": "stream",
     "text": [
      "1 서울특별시 종로구 세종대로 175\n",
      "2 서울특별시 서초구 서초동 700\n",
      "3 부산광역시 해운대구 해운대해변로 264\n"
     ]
    },
    {
     "data": {
      "text/html": [
       "<div>\n",
       "<style scoped>\n",
       "    .dataframe tbody tr th:only-of-type {\n",
       "        vertical-align: middle;\n",
       "    }\n",
       "\n",
       "    .dataframe tbody tr th {\n",
       "        vertical-align: top;\n",
       "    }\n",
       "\n",
       "    .dataframe thead th {\n",
       "        text-align: right;\n",
       "    }\n",
       "</style>\n",
       "<table border=\"1\" class=\"dataframe\">\n",
       "  <thead>\n",
       "    <tr style=\"text-align: right;\">\n",
       "      <th></th>\n",
       "      <th>위도</th>\n",
       "      <th>경도</th>\n",
       "    </tr>\n",
       "  </thead>\n",
       "  <tbody>\n",
       "    <tr>\n",
       "      <th>서울특별시 종로구 세종대로 175</th>\n",
       "      <td>37.5718478584908</td>\n",
       "      <td>126.976168275947</td>\n",
       "    </tr>\n",
       "    <tr>\n",
       "      <th>서울특별시 서초구 서초동 700</th>\n",
       "      <td>37.4810862955299</td>\n",
       "      <td>127.015245160054</td>\n",
       "    </tr>\n",
       "    <tr>\n",
       "      <th>부산광역시 해운대구 해운대해변로 264</th>\n",
       "      <td>35.1591069824231</td>\n",
       "      <td>129.160283786856</td>\n",
       "    </tr>\n",
       "  </tbody>\n",
       "</table>\n",
       "</div>"
      ],
      "text/plain": [
       "                                     위도                경도\n",
       "서울특별시 종로구 세종대로 175     37.5718478584908  126.976168275947\n",
       "서울특별시 서초구 서초동 700      37.4810862955299  127.015245160054\n",
       "부산광역시 해운대구 해운대해변로 264  35.1591069824231  129.160283786856"
      ]
     },
<<<<<<< HEAD
     "execution_count": 122,
=======
     "execution_count": 4,
>>>>>>> 492b8c55dc7632e22155f0ec3ceabdbea83d10ad
     "metadata": {},
     "output_type": "execute_result"
    }
   ],
   "source": [
<<<<<<< HEAD
    "# 위도 경도 가져오는 TEST\n",
=======
>>>>>>> 492b8c55dc7632e22155f0ec3ceabdbea83d10ad
    "lat = []  #위도\n",
    "lng = []  #경도\n",
    "\n",
    "# 장소(주소) 리스트\n",
    "places = [\"서울특별시 종로구 세종대로 175\", \n",
    "          \"서울특별시 서초구 서초동 700\", \n",
    "          \"부산광역시 해운대구 해운대해변로 264\"]\n",
    "\n",
    "i=0\n",
    "for place in places:   \n",
    "    i = i + 1\n",
    "    try:\n",
    "        print(i, place)\n",
    "        # get_geocoding 함수의 리턴값 호출하여 geo_location 변수에 저장\n",
    "        place_lat, place_lon = get_geocoding(place)\n",
    "        lat.append(place_lat)\n",
    "        lng.append(place_lon)\n",
    "        \n",
    "    except:\n",
    "        lat.append('')\n",
    "        lng.append('')\n",
    "\n",
    "# 데이터프레임으로 변환하기\n",
    "df = pd.DataFrame({'위도':lat, '경도':lng}, index=places)\n",
    "\n",
    "df"
   ]
<<<<<<< HEAD
  },
  {
   "cell_type": "code",
   "execution_count": 123,
   "metadata": {},
   "outputs": [
    {
     "data": {
      "text/html": [
       "<div>\n",
       "<style scoped>\n",
       "    .dataframe tbody tr th:only-of-type {\n",
       "        vertical-align: middle;\n",
       "    }\n",
       "\n",
       "    .dataframe tbody tr th {\n",
       "        vertical-align: top;\n",
       "    }\n",
       "\n",
       "    .dataframe thead th {\n",
       "        text-align: right;\n",
       "    }\n",
       "</style>\n",
       "<table border=\"1\" class=\"dataframe\">\n",
       "  <thead>\n",
       "    <tr style=\"text-align: right;\">\n",
       "      <th></th>\n",
       "      <th>상가업소번호</th>\n",
       "      <th>상호명</th>\n",
       "      <th>지점명</th>\n",
       "      <th>상권업종대분류코드</th>\n",
       "      <th>상권업종대분류명</th>\n",
       "      <th>상권업종중분류코드</th>\n",
       "      <th>상권업종중분류명</th>\n",
       "      <th>상권업종소분류코드</th>\n",
       "      <th>상권업종소분류명</th>\n",
       "      <th>표준산업분류코드</th>\n",
       "      <th>...</th>\n",
       "      <th>건물관리번호</th>\n",
       "      <th>건물명</th>\n",
       "      <th>도로명주소</th>\n",
       "      <th>구우편번호</th>\n",
       "      <th>신우편번호</th>\n",
       "      <th>동정보</th>\n",
       "      <th>층정보</th>\n",
       "      <th>호정보</th>\n",
       "      <th>경도</th>\n",
       "      <th>위도</th>\n",
       "    </tr>\n",
       "  </thead>\n",
       "  <tbody>\n",
       "    <tr>\n",
       "      <th>0</th>\n",
       "      <td>19956873</td>\n",
       "      <td>하나산부인과</td>\n",
       "      <td>NaN</td>\n",
       "      <td>S</td>\n",
       "      <td>의료</td>\n",
       "      <td>S01</td>\n",
       "      <td>병원</td>\n",
       "      <td>S01B10</td>\n",
       "      <td>산부인과</td>\n",
       "      <td>Q86201</td>\n",
       "      <td>...</td>\n",
       "      <td>4.130000e+24</td>\n",
       "      <td>산호한양아파트</td>\n",
       "      <td>경기도 안산시 단원구 달미로 10</td>\n",
       "      <td>425764.0</td>\n",
       "      <td>15236.0</td>\n",
       "      <td>NaN</td>\n",
       "      <td>NaN</td>\n",
       "      <td>NaN</td>\n",
       "      <td>126.814295</td>\n",
       "      <td>37.336344</td>\n",
       "    </tr>\n",
       "  </tbody>\n",
       "</table>\n",
       "<p>1 rows × 39 columns</p>\n",
       "</div>"
      ],
      "text/plain": [
       "     상가업소번호     상호명  지점명 상권업종대분류코드 상권업종대분류명 상권업종중분류코드 상권업종중분류명 상권업종소분류코드  \\\n",
       "0  19956873  하나산부인과  NaN         S       의료       S01       병원    S01B10   \n",
       "\n",
       "  상권업종소분류명 표준산업분류코드  ...        건물관리번호      건물명               도로명주소     구우편번호  \\\n",
       "0     산부인과   Q86201  ...  4.130000e+24  산호한양아파트  경기도 안산시 단원구 달미로 10  425764.0   \n",
       "\n",
       "     신우편번호  동정보 층정보  호정보          경도         위도  \n",
       "0  15236.0  NaN NaN  NaN  126.814295  37.336344  \n",
       "\n",
       "[1 rows x 39 columns]"
      ]
     },
     "execution_count": 123,
     "metadata": {},
     "output_type": "execute_result"
    }
   ],
   "source": [
    "df = pd.read_csv('https://raw.githubusercontent.com/pia222sk20/python/main/data/sample.csv',encoding = 'cp949')\n",
    "df.head(1)"
   ]
  },
  {
   "cell_type": "code",
   "execution_count": 124,
   "metadata": {},
   "outputs": [
    {
     "data": {
      "text/html": [
       "<div>\n",
       "<style scoped>\n",
       "    .dataframe tbody tr th:only-of-type {\n",
       "        vertical-align: middle;\n",
       "    }\n",
       "\n",
       "    .dataframe tbody tr th {\n",
       "        vertical-align: top;\n",
       "    }\n",
       "\n",
       "    .dataframe thead th {\n",
       "        text-align: right;\n",
       "    }\n",
       "</style>\n",
       "<table border=\"1\" class=\"dataframe\">\n",
       "  <thead>\n",
       "    <tr style=\"text-align: right;\">\n",
       "      <th></th>\n",
       "      <th>상호명</th>\n",
       "      <th>도로명주소</th>\n",
       "    </tr>\n",
       "  </thead>\n",
       "  <tbody>\n",
       "    <tr>\n",
       "      <th>0</th>\n",
       "      <td>하나산부인과</td>\n",
       "      <td>경기도 안산시 단원구 달미로 10</td>\n",
       "    </tr>\n",
       "    <tr>\n",
       "      <th>1</th>\n",
       "      <td>타워광명내과의원</td>\n",
       "      <td>서울특별시 강남구 언주로30길 39</td>\n",
       "    </tr>\n",
       "    <tr>\n",
       "      <th>2</th>\n",
       "      <td>조정현신경외과의원</td>\n",
       "      <td>경기도 시흥시 중심상가로 178</td>\n",
       "    </tr>\n",
       "    <tr>\n",
       "      <th>3</th>\n",
       "      <td>한귀원정신과의원</td>\n",
       "      <td>부산광역시 수영구 수영로 688</td>\n",
       "    </tr>\n",
       "    <tr>\n",
       "      <th>4</th>\n",
       "      <td>더블유스토어수지점</td>\n",
       "      <td>경기도 용인시 수지구 문정로 32</td>\n",
       "    </tr>\n",
       "  </tbody>\n",
       "</table>\n",
       "</div>"
      ],
      "text/plain": [
       "         상호명                도로명주소\n",
       "0     하나산부인과   경기도 안산시 단원구 달미로 10\n",
       "1   타워광명내과의원  서울특별시 강남구 언주로30길 39\n",
       "2  조정현신경외과의원    경기도 시흥시 중심상가로 178\n",
       "3   한귀원정신과의원    부산광역시 수영구 수영로 688\n",
       "4  더블유스토어수지점   경기도 용인시 수지구 문정로 32"
      ]
     },
     "execution_count": 124,
     "metadata": {},
     "output_type": "execute_result"
    }
   ],
   "source": [
    "# 상호명 / 도로명주소\n",
    "df.loc[:,['상권업종대분류코드']]\n",
    "df_simple = df.loc[:,['상호명','도로명주소']]\n",
    "df_simple.head()"
   ]
  },
  {
   "cell_type": "code",
   "execution_count": 125,
   "metadata": {},
   "outputs": [
    {
     "data": {
      "text/plain": [
       "RangeIndex(start=0, stop=91335, step=1)"
      ]
     },
     "execution_count": 125,
     "metadata": {},
     "output_type": "execute_result"
    }
   ],
   "source": [
    "# 위도 경도를 추가 apply 기능 \n",
    "# df_simple['위경도'] = df_simple['도로명주소'].apply(lambda x : get_geocoding(x))\n",
    "\n",
    "df_simple['도로명주소'].index"
   ]
  },
  {
   "cell_type": "code",
   "execution_count": 126,
   "metadata": {},
   "outputs": [
    {
     "data": {
      "text/plain": [
       "[90280, 62279, 20298, 40104, 78808, 17718, 473, 22298, 88771, 83806]"
      ]
     },
     "execution_count": 126,
     "metadata": {},
     "output_type": "execute_result"
    }
   ],
   "source": [
    "import random\n",
    "random_index = random.sample(range(91335),50)\n",
    "random_index[:10]"
   ]
  },
  {
   "cell_type": "code",
   "execution_count": 128,
   "metadata": {},
   "outputs": [
    {
     "data": {
      "text/html": [
       "<div>\n",
       "<style scoped>\n",
       "    .dataframe tbody tr th:only-of-type {\n",
       "        vertical-align: middle;\n",
       "    }\n",
       "\n",
       "    .dataframe tbody tr th {\n",
       "        vertical-align: top;\n",
       "    }\n",
       "\n",
       "    .dataframe thead th {\n",
       "        text-align: right;\n",
       "    }\n",
       "</style>\n",
       "<table border=\"1\" class=\"dataframe\">\n",
       "  <thead>\n",
       "    <tr style=\"text-align: right;\">\n",
       "      <th></th>\n",
       "      <th>상호명</th>\n",
       "      <th>도로명주소</th>\n",
       "    </tr>\n",
       "  </thead>\n",
       "  <tbody>\n",
       "    <tr>\n",
       "      <th>90280</th>\n",
       "      <td>온누리약국</td>\n",
       "      <td>경기도 부천시 범안로 31</td>\n",
       "    </tr>\n",
       "    <tr>\n",
       "      <th>62279</th>\n",
       "      <td>유경수정형외과</td>\n",
       "      <td>부산광역시 수영구 수영로 399</td>\n",
       "    </tr>\n",
       "    <tr>\n",
       "      <th>20298</th>\n",
       "      <td>신명한의원</td>\n",
       "      <td>전라북도 무주군 안성면 중산길 13-1</td>\n",
       "    </tr>\n",
       "    <tr>\n",
       "      <th>40104</th>\n",
       "      <td>권재봉소아과</td>\n",
       "      <td>충청북도 충주시 봉계1길 52</td>\n",
       "    </tr>\n",
       "    <tr>\n",
       "      <th>78808</th>\n",
       "      <td>이유치과의원</td>\n",
       "      <td>부산광역시 부산진구 황령대로 12</td>\n",
       "    </tr>\n",
       "  </tbody>\n",
       "</table>\n",
       "</div>"
      ],
      "text/plain": [
       "           상호명                  도로명주소\n",
       "90280    온누리약국         경기도 부천시 범안로 31\n",
       "62279  유경수정형외과      부산광역시 수영구 수영로 399\n",
       "20298    신명한의원  전라북도 무주군 안성면 중산길 13-1\n",
       "40104   권재봉소아과       충청북도 충주시 봉계1길 52\n",
       "78808   이유치과의원     부산광역시 부산진구 황령대로 12"
      ]
     },
     "execution_count": 128,
     "metadata": {},
     "output_type": "execute_result"
    }
   ],
   "source": [
    "df_simple.iloc[random_index].head(5)"
   ]
  },
  {
   "cell_type": "code",
   "execution_count": 129,
   "metadata": {},
   "outputs": [
    {
     "data": {
      "text/plain": [
       "[('37.4789020582738', '126.80729880814'),\n",
       " ('35.1421278348102', '129.107629275382'),\n",
       " ('35.8603142111578', '127.666126286865'),\n",
       " ('36.9810685213902', '127.915621614714'),\n",
       " ('35.1476075827623', '129.061155588947'),\n",
       " ('37.2678790580559', '127.005653876318'),\n",
       " ('36.6771688149175', '129.442907493928'),\n",
       " ('37.5221332556567', '126.87778960592'),\n",
       " ('37.4464580004415', '127.165159625151'),\n",
       " ('35.862207799457', '127.149626039308')]"
      ]
     },
     "execution_count": 129,
     "metadata": {},
     "output_type": "execute_result"
    }
   ],
   "source": [
    "# 주소 랜덤으로 100개 가져오는거임.\n",
    "\n",
    "df_simple_50 =  df_simple.iloc[random_index]\n",
    "results = [ get_geocoding(addr) for addr in df_simple_50['도로명주소'].values]\n",
    "results[:10]"
   ]
  },
  {
   "cell_type": "code",
   "execution_count": 130,
   "metadata": {},
   "outputs": [
    {
     "name": "stderr",
     "output_type": "stream",
     "text": [
      "C:\\Users\\playdata\\AppData\\Local\\Temp\\ipykernel_12696\\4285291463.py:1: SettingWithCopyWarning: \n",
      "A value is trying to be set on a copy of a slice from a DataFrame.\n",
      "Try using .loc[row_indexer,col_indexer] = value instead\n",
      "\n",
      "See the caveats in the documentation: https://pandas.pydata.org/pandas-docs/stable/user_guide/indexing.html#returning-a-view-versus-a-copy\n",
      "  df_simple_50.loc[:,'위도'], df_simple_50.loc[:,'경도'] = zip(*results)\n",
      "C:\\Users\\playdata\\AppData\\Local\\Temp\\ipykernel_12696\\4285291463.py:1: SettingWithCopyWarning: \n",
      "A value is trying to be set on a copy of a slice from a DataFrame.\n",
      "Try using .loc[row_indexer,col_indexer] = value instead\n",
      "\n",
      "See the caveats in the documentation: https://pandas.pydata.org/pandas-docs/stable/user_guide/indexing.html#returning-a-view-versus-a-copy\n",
      "  df_simple_50.loc[:,'위도'], df_simple_50.loc[:,'경도'] = zip(*results)\n"
     ]
    }
   ],
   "source": [
    "\n",
    "df_simple_50.loc[:,'위도'], df_simple_50.loc[:,'경도'] = zip(*results)"
   ]
  },
  {
   "cell_type": "code",
   "execution_count": 148,
   "metadata": {},
   "outputs": [
    {
     "data": {
      "text/html": [
       "<div>\n",
       "<style scoped>\n",
       "    .dataframe tbody tr th:only-of-type {\n",
       "        vertical-align: middle;\n",
       "    }\n",
       "\n",
       "    .dataframe tbody tr th {\n",
       "        vertical-align: top;\n",
       "    }\n",
       "\n",
       "    .dataframe thead th {\n",
       "        text-align: right;\n",
       "    }\n",
       "</style>\n",
       "<table border=\"1\" class=\"dataframe\">\n",
       "  <thead>\n",
       "    <tr style=\"text-align: right;\">\n",
       "      <th></th>\n",
       "      <th>상호명</th>\n",
       "      <th>도로명주소</th>\n",
       "      <th>위도</th>\n",
       "      <th>경도</th>\n",
       "    </tr>\n",
       "  </thead>\n",
       "  <tbody>\n",
       "    <tr>\n",
       "      <th>90280</th>\n",
       "      <td>온누리약국</td>\n",
       "      <td>경기도 부천시 범안로 31</td>\n",
       "      <td>37.4789020582738</td>\n",
       "      <td>126.80729880814</td>\n",
       "    </tr>\n",
       "    <tr>\n",
       "      <th>62279</th>\n",
       "      <td>유경수정형외과</td>\n",
       "      <td>부산광역시 수영구 수영로 399</td>\n",
       "      <td>35.1421278348102</td>\n",
       "      <td>129.107629275382</td>\n",
       "    </tr>\n",
       "    <tr>\n",
       "      <th>20298</th>\n",
       "      <td>신명한의원</td>\n",
       "      <td>전라북도 무주군 안성면 중산길 13-1</td>\n",
       "      <td>35.8603142111578</td>\n",
       "      <td>127.666126286865</td>\n",
       "    </tr>\n",
       "    <tr>\n",
       "      <th>40104</th>\n",
       "      <td>권재봉소아과</td>\n",
       "      <td>충청북도 충주시 봉계1길 52</td>\n",
       "      <td>36.9810685213902</td>\n",
       "      <td>127.915621614714</td>\n",
       "    </tr>\n",
       "    <tr>\n",
       "      <th>78808</th>\n",
       "      <td>이유치과의원</td>\n",
       "      <td>부산광역시 부산진구 황령대로 12</td>\n",
       "      <td>35.1476075827623</td>\n",
       "      <td>129.061155588947</td>\n",
       "    </tr>\n",
       "  </tbody>\n",
       "</table>\n",
       "</div>"
      ],
      "text/plain": [
       "           상호명                  도로명주소                위도                경도\n",
       "90280    온누리약국         경기도 부천시 범안로 31  37.4789020582738   126.80729880814\n",
       "62279  유경수정형외과      부산광역시 수영구 수영로 399  35.1421278348102  129.107629275382\n",
       "20298    신명한의원  전라북도 무주군 안성면 중산길 13-1  35.8603142111578  127.666126286865\n",
       "40104   권재봉소아과       충청북도 충주시 봉계1길 52  36.9810685213902  127.915621614714\n",
       "78808   이유치과의원     부산광역시 부산진구 황령대로 12  35.1476075827623  129.061155588947"
      ]
     },
     "execution_count": 148,
     "metadata": {},
     "output_type": "execute_result"
    }
   ],
   "source": [
    "df_simple_50.head(5)"
   ]
  },
  {
   "cell_type": "code",
   "execution_count": 131,
   "metadata": {},
   "outputs": [
    {
     "name": "stdout",
     "output_type": "stream",
     "text": [
      "Requirement already satisfied: folium in c:\\users\\playdata\\appdata\\local\\programs\\python\\python313\\lib\\site-packages (0.20.0)\n",
      "Requirement already satisfied: branca>=0.6.0 in c:\\users\\playdata\\appdata\\local\\programs\\python\\python313\\lib\\site-packages (from folium) (0.8.1)\n",
      "Requirement already satisfied: jinja2>=2.9 in c:\\users\\playdata\\appdata\\local\\programs\\python\\python313\\lib\\site-packages (from folium) (3.1.6)\n",
      "Requirement already satisfied: numpy in c:\\users\\playdata\\appdata\\local\\programs\\python\\python313\\lib\\site-packages (from folium) (2.3.3)\n",
      "Requirement already satisfied: requests in c:\\users\\playdata\\appdata\\local\\programs\\python\\python313\\lib\\site-packages (from folium) (2.32.5)\n",
      "Requirement already satisfied: xyzservices in c:\\users\\playdata\\appdata\\local\\programs\\python\\python313\\lib\\site-packages (from folium) (2025.4.0)\n",
      "Requirement already satisfied: MarkupSafe>=2.0 in c:\\users\\playdata\\appdata\\local\\programs\\python\\python313\\lib\\site-packages (from jinja2>=2.9->folium) (3.0.3)\n",
      "Requirement already satisfied: charset_normalizer<4,>=2 in c:\\users\\playdata\\appdata\\local\\programs\\python\\python313\\lib\\site-packages (from requests->folium) (3.4.3)\n",
      "Requirement already satisfied: idna<4,>=2.5 in c:\\users\\playdata\\appdata\\local\\programs\\python\\python313\\lib\\site-packages (from requests->folium) (3.10)\n",
      "Requirement already satisfied: urllib3<3,>=1.21.1 in c:\\users\\playdata\\appdata\\local\\programs\\python\\python313\\lib\\site-packages (from requests->folium) (2.5.0)\n",
      "Requirement already satisfied: certifi>=2017.4.17 in c:\\users\\playdata\\appdata\\local\\programs\\python\\python313\\lib\\site-packages (from requests->folium) (2025.8.3)\n",
      "Note: you may need to restart the kernel to use updated packages.\n"
     ]
    }
   ],
   "source": [
    "# 지도 확장 모듈\n",
    "%pip install folium"
   ]
  },
  {
   "cell_type": "code",
   "execution_count": 133,
   "metadata": {},
   "outputs": [],
   "source": [
    "import folium\n",
    "\n",
    "m = folium.Map(location=(35.8425738690814, 127.140054344904))  # 최초지도 로드할때. 중심좌표\n",
    "folium.Marker(\n",
    "    location=[35.8425738690814, 127.140054344904],\n",
    "    popup='고려마취통증의학과의원',# popup = 사용자가 클릭했을 때 뜨는 작은 창 같은 정보 박스\n",
    "    tooltip='병원' # tooltip = 마우스를 올려놓기만 해도 뜨는 간단한 설명\n",
    ").add_to(m)\n",
    "\n",
    "folium.Marker(\n",
    "    location=[37.8687445127498,\t127.714867915848],\n",
    "    popup='백세약국',\n",
    "    tooltip='약국'\n",
    ").add_to(m)\n",
    "\n",
    "m.save('map.html')"
   ]
  },
  {
   "cell_type": "code",
   "execution_count": null,
   "metadata": {},
   "outputs": [],
   "source": [
    "df_simple_50 = df_simple_50.dropna() # NaN  , None 값을 drop 한다는 뜻"
   ]
  },
  {
   "cell_type": "code",
   "execution_count": 147,
   "metadata": {},
   "outputs": [],
   "source": [
    "import folium\n",
    "m = folium.Map(location=(35.8425738690814, 127.140054344904))  # 최초지도 로드할때. 중심좌표\n",
    "for idx,row in df_simple_50.iterrows():\n",
    "    \n",
    "    # print(row['위도'], row['경도'])\n",
    "\n",
    "    \n",
    "    folium.Marker(\n",
    "        location=[   row['위도'], row['경도']  ],\n",
    "        popup=row['상호명'],\n",
    "        tooltip=row['상호명'][-2:]\n",
    " \n",
    "    ).add_to(m)\n",
    "\n",
    "    \n",
    "m.save('map.html')"
   ]
  },
  {
   "cell_type": "code",
   "execution_count": null,
   "metadata": {},
   "outputs": [],
   "source": []
=======
>>>>>>> 492b8c55dc7632e22155f0ec3ceabdbea83d10ad
  }
 ],
 "metadata": {
  "colab": {
   "authorship_tag": "ABX9TyMmPDgPDlEQ9VJpxhthoipr",
   "provenance": []
  },
  "kernelspec": {
<<<<<<< HEAD
   "display_name": "Python 3",
   "language": "python",
   "name": "python3"
=======
   "display_name": "pandas",
   "language": "python",
   "name": "pandas"
>>>>>>> 492b8c55dc7632e22155f0ec3ceabdbea83d10ad
  },
  "language_info": {
   "codemirror_mode": {
    "name": "ipython",
    "version": 3
   },
   "file_extension": ".py",
   "mimetype": "text/x-python",
   "name": "python",
   "nbconvert_exporter": "python",
   "pygments_lexer": "ipython3",
<<<<<<< HEAD
   "version": "3.13.7"
=======
   "version": "3.10.13"
>>>>>>> 492b8c55dc7632e22155f0ec3ceabdbea83d10ad
  }
 },
 "nbformat": 4,
 "nbformat_minor": 4
}
