{
 "cells": [
  {
   "cell_type": "code",
<<<<<<< HEAD
   "execution_count": 10,
=======
   "execution_count": 1,
>>>>>>> 492b8c55dc7632e22155f0ec3ceabdbea83d10ad
   "metadata": {
    "executionInfo": {
     "elapsed": 2337,
     "status": "ok",
     "timestamp": 1706180950836,
     "user": {
      "displayName": "Steve",
      "userId": "13015281013241816762"
     },
     "user_tz": -540
    },
    "id": "PSJ0UQVYOkXc",
    "tags": []
   },
   "outputs": [],
   "source": [
    "# 라이브러리 가져오기\n",
    "import requests\n",
    "import pandas as pd\n",
    "\n",
    "my_key = \"----발급받은 API 키를 입력-----\"\n",
    "\n",
    "# 특정 종목(stockCode)의 재무항목(indicatorName) 데이터를 가져오는 함수를 정의\n",
    "def get_financials(stockCode, indicatorName, apiKey, consolidated=True, ttm=True):\n",
    "    \n",
    "    if consolidated:   # 연결 기준\n",
    "        if ttm:        # Trailing 12 Months (12개월 누적)\n",
    "            url = f\"https://api.dapada.io/company/getConsolidatedFinancialDataByTTM?apiKey={apiKey}&indicatorName={indicatorName}&stockCode={stockCode}\"            \n",
    "        else:          # 해당 분기 기준 (3개월 집계)\n",
    "            url = f\"https://api.dapada.io/company/getConsolidatedFinancialDataByCUR?apiKey={apiKey}&indicatorName={indicatorName}&stockCode={stockCode}\"       \n",
    "            \n",
    "    else:              # 별도 기준\n",
    "        if ttm:        # Trailing 12 Months (12개월 누적)\n",
    "            url = f\"https://api.dapada.io/company/getSeparatedFinancialDataByTTM?apiKey={apiKey}&indicatorName={indicatorName}&stockCode={stockCode}\"            \n",
    "        else:          # 해당 분기 기준 (3개월 집계)\n",
    "            url = f\"https://api.dapada.io/company/getSeparatedFinancialDataByCUR?apiKey={apiKey}&indicatorName={indicatorName}&stockCode={stockCode}\"       \n",
    "           \n",
    "    headers = {\"apiKey\": f\"{apiKey}\"}\n",
    "    response = requests.get(url, headers=headers)\n",
    "    result = response.json()\n",
    "    return pd.DataFrame(result)"
   ]
  },
  {
   "cell_type": "code",
<<<<<<< HEAD
   "execution_count": 11,
=======
   "execution_count": 2,
>>>>>>> 492b8c55dc7632e22155f0ec3ceabdbea83d10ad
   "metadata": {
    "tags": []
   },
   "outputs": [
    {
<<<<<<< HEAD
     "ename": "SSLError",
     "evalue": "HTTPSConnectionPool(host='api.dapada.io', port=443): Max retries exceeded with url: /company/getConsolidatedFinancialDataByTTM?apiKey=----%EB%B0%9C%EA%B8%89%EB%B0%9B%EC%9D%80%20API%20%ED%82%A4%EB%A5%BC%20%EC%9E%85%EB%A0%A5-----&indicatorName=%EB%A7%A4%EC%B6%9C%EC%95%A1&stockCode=005930 (Caused by SSLError(SSLCertVerificationError(1, '[SSL: CERTIFICATE_VERIFY_FAILED] certificate verify failed: certificate has expired (_ssl.c:1032)')))",
     "output_type": "error",
     "traceback": [
      "\u001b[31m---------------------------------------------------------------------------\u001b[39m",
      "\u001b[31mSSLCertVerificationError\u001b[39m                  Traceback (most recent call last)",
      "\u001b[36mFile \u001b[39m\u001b[32mc:\\Users\\playdata\\AppData\\Local\\Programs\\Python\\Python313\\Lib\\site-packages\\urllib3\\connectionpool.py:464\u001b[39m, in \u001b[36mHTTPConnectionPool._make_request\u001b[39m\u001b[34m(self, conn, method, url, body, headers, retries, timeout, chunked, response_conn, preload_content, decode_content, enforce_content_length)\u001b[39m\n\u001b[32m    463\u001b[39m \u001b[38;5;28;01mtry\u001b[39;00m:\n\u001b[32m--> \u001b[39m\u001b[32m464\u001b[39m     \u001b[38;5;28;43mself\u001b[39;49m\u001b[43m.\u001b[49m\u001b[43m_validate_conn\u001b[49m\u001b[43m(\u001b[49m\u001b[43mconn\u001b[49m\u001b[43m)\u001b[49m\n\u001b[32m    465\u001b[39m \u001b[38;5;28;01mexcept\u001b[39;00m (SocketTimeout, BaseSSLError) \u001b[38;5;28;01mas\u001b[39;00m e:\n",
      "\u001b[36mFile \u001b[39m\u001b[32mc:\\Users\\playdata\\AppData\\Local\\Programs\\Python\\Python313\\Lib\\site-packages\\urllib3\\connectionpool.py:1093\u001b[39m, in \u001b[36mHTTPSConnectionPool._validate_conn\u001b[39m\u001b[34m(self, conn)\u001b[39m\n\u001b[32m   1092\u001b[39m \u001b[38;5;28;01mif\u001b[39;00m conn.is_closed:\n\u001b[32m-> \u001b[39m\u001b[32m1093\u001b[39m     \u001b[43mconn\u001b[49m\u001b[43m.\u001b[49m\u001b[43mconnect\u001b[49m\u001b[43m(\u001b[49m\u001b[43m)\u001b[49m\n\u001b[32m   1095\u001b[39m \u001b[38;5;66;03m# TODO revise this, see https://github.com/urllib3/urllib3/issues/2791\u001b[39;00m\n",
      "\u001b[36mFile \u001b[39m\u001b[32mc:\\Users\\playdata\\AppData\\Local\\Programs\\Python\\Python313\\Lib\\site-packages\\urllib3\\connection.py:790\u001b[39m, in \u001b[36mHTTPSConnection.connect\u001b[39m\u001b[34m(self)\u001b[39m\n\u001b[32m    788\u001b[39m server_hostname_rm_dot = server_hostname.rstrip(\u001b[33m\"\u001b[39m\u001b[33m.\u001b[39m\u001b[33m\"\u001b[39m)\n\u001b[32m--> \u001b[39m\u001b[32m790\u001b[39m sock_and_verified = \u001b[43m_ssl_wrap_socket_and_match_hostname\u001b[49m\u001b[43m(\u001b[49m\n\u001b[32m    791\u001b[39m \u001b[43m    \u001b[49m\u001b[43msock\u001b[49m\u001b[43m=\u001b[49m\u001b[43msock\u001b[49m\u001b[43m,\u001b[49m\n\u001b[32m    792\u001b[39m \u001b[43m    \u001b[49m\u001b[43mcert_reqs\u001b[49m\u001b[43m=\u001b[49m\u001b[38;5;28;43mself\u001b[39;49m\u001b[43m.\u001b[49m\u001b[43mcert_reqs\u001b[49m\u001b[43m,\u001b[49m\n\u001b[32m    793\u001b[39m \u001b[43m    \u001b[49m\u001b[43mssl_version\u001b[49m\u001b[43m=\u001b[49m\u001b[38;5;28;43mself\u001b[39;49m\u001b[43m.\u001b[49m\u001b[43mssl_version\u001b[49m\u001b[43m,\u001b[49m\n\u001b[32m    794\u001b[39m \u001b[43m    \u001b[49m\u001b[43mssl_minimum_version\u001b[49m\u001b[43m=\u001b[49m\u001b[38;5;28;43mself\u001b[39;49m\u001b[43m.\u001b[49m\u001b[43mssl_minimum_version\u001b[49m\u001b[43m,\u001b[49m\n\u001b[32m    795\u001b[39m \u001b[43m    \u001b[49m\u001b[43mssl_maximum_version\u001b[49m\u001b[43m=\u001b[49m\u001b[38;5;28;43mself\u001b[39;49m\u001b[43m.\u001b[49m\u001b[43mssl_maximum_version\u001b[49m\u001b[43m,\u001b[49m\n\u001b[32m    796\u001b[39m \u001b[43m    \u001b[49m\u001b[43mca_certs\u001b[49m\u001b[43m=\u001b[49m\u001b[38;5;28;43mself\u001b[39;49m\u001b[43m.\u001b[49m\u001b[43mca_certs\u001b[49m\u001b[43m,\u001b[49m\n\u001b[32m    797\u001b[39m \u001b[43m    \u001b[49m\u001b[43mca_cert_dir\u001b[49m\u001b[43m=\u001b[49m\u001b[38;5;28;43mself\u001b[39;49m\u001b[43m.\u001b[49m\u001b[43mca_cert_dir\u001b[49m\u001b[43m,\u001b[49m\n\u001b[32m    798\u001b[39m \u001b[43m    \u001b[49m\u001b[43mca_cert_data\u001b[49m\u001b[43m=\u001b[49m\u001b[38;5;28;43mself\u001b[39;49m\u001b[43m.\u001b[49m\u001b[43mca_cert_data\u001b[49m\u001b[43m,\u001b[49m\n\u001b[32m    799\u001b[39m \u001b[43m    \u001b[49m\u001b[43mcert_file\u001b[49m\u001b[43m=\u001b[49m\u001b[38;5;28;43mself\u001b[39;49m\u001b[43m.\u001b[49m\u001b[43mcert_file\u001b[49m\u001b[43m,\u001b[49m\n\u001b[32m    800\u001b[39m \u001b[43m    \u001b[49m\u001b[43mkey_file\u001b[49m\u001b[43m=\u001b[49m\u001b[38;5;28;43mself\u001b[39;49m\u001b[43m.\u001b[49m\u001b[43mkey_file\u001b[49m\u001b[43m,\u001b[49m\n\u001b[32m    801\u001b[39m \u001b[43m    \u001b[49m\u001b[43mkey_password\u001b[49m\u001b[43m=\u001b[49m\u001b[38;5;28;43mself\u001b[39;49m\u001b[43m.\u001b[49m\u001b[43mkey_password\u001b[49m\u001b[43m,\u001b[49m\n\u001b[32m    802\u001b[39m \u001b[43m    \u001b[49m\u001b[43mserver_hostname\u001b[49m\u001b[43m=\u001b[49m\u001b[43mserver_hostname_rm_dot\u001b[49m\u001b[43m,\u001b[49m\n\u001b[32m    803\u001b[39m \u001b[43m    \u001b[49m\u001b[43mssl_context\u001b[49m\u001b[43m=\u001b[49m\u001b[38;5;28;43mself\u001b[39;49m\u001b[43m.\u001b[49m\u001b[43mssl_context\u001b[49m\u001b[43m,\u001b[49m\n\u001b[32m    804\u001b[39m \u001b[43m    \u001b[49m\u001b[43mtls_in_tls\u001b[49m\u001b[43m=\u001b[49m\u001b[43mtls_in_tls\u001b[49m\u001b[43m,\u001b[49m\n\u001b[32m    805\u001b[39m \u001b[43m    \u001b[49m\u001b[43massert_hostname\u001b[49m\u001b[43m=\u001b[49m\u001b[38;5;28;43mself\u001b[39;49m\u001b[43m.\u001b[49m\u001b[43massert_hostname\u001b[49m\u001b[43m,\u001b[49m\n\u001b[32m    806\u001b[39m \u001b[43m    \u001b[49m\u001b[43massert_fingerprint\u001b[49m\u001b[43m=\u001b[49m\u001b[38;5;28;43mself\u001b[39;49m\u001b[43m.\u001b[49m\u001b[43massert_fingerprint\u001b[49m\u001b[43m,\u001b[49m\n\u001b[32m    807\u001b[39m \u001b[43m\u001b[49m\u001b[43m)\u001b[49m\n\u001b[32m    808\u001b[39m \u001b[38;5;28mself\u001b[39m.sock = sock_and_verified.socket\n",
      "\u001b[36mFile \u001b[39m\u001b[32mc:\\Users\\playdata\\AppData\\Local\\Programs\\Python\\Python313\\Lib\\site-packages\\urllib3\\connection.py:969\u001b[39m, in \u001b[36m_ssl_wrap_socket_and_match_hostname\u001b[39m\u001b[34m(sock, cert_reqs, ssl_version, ssl_minimum_version, ssl_maximum_version, cert_file, key_file, key_password, ca_certs, ca_cert_dir, ca_cert_data, assert_hostname, assert_fingerprint, server_hostname, ssl_context, tls_in_tls)\u001b[39m\n\u001b[32m    967\u001b[39m         server_hostname = normalized\n\u001b[32m--> \u001b[39m\u001b[32m969\u001b[39m ssl_sock = \u001b[43mssl_wrap_socket\u001b[49m\u001b[43m(\u001b[49m\n\u001b[32m    970\u001b[39m \u001b[43m    \u001b[49m\u001b[43msock\u001b[49m\u001b[43m=\u001b[49m\u001b[43msock\u001b[49m\u001b[43m,\u001b[49m\n\u001b[32m    971\u001b[39m \u001b[43m    \u001b[49m\u001b[43mkeyfile\u001b[49m\u001b[43m=\u001b[49m\u001b[43mkey_file\u001b[49m\u001b[43m,\u001b[49m\n\u001b[32m    972\u001b[39m \u001b[43m    \u001b[49m\u001b[43mcertfile\u001b[49m\u001b[43m=\u001b[49m\u001b[43mcert_file\u001b[49m\u001b[43m,\u001b[49m\n\u001b[32m    973\u001b[39m \u001b[43m    \u001b[49m\u001b[43mkey_password\u001b[49m\u001b[43m=\u001b[49m\u001b[43mkey_password\u001b[49m\u001b[43m,\u001b[49m\n\u001b[32m    974\u001b[39m \u001b[43m    \u001b[49m\u001b[43mca_certs\u001b[49m\u001b[43m=\u001b[49m\u001b[43mca_certs\u001b[49m\u001b[43m,\u001b[49m\n\u001b[32m    975\u001b[39m \u001b[43m    \u001b[49m\u001b[43mca_cert_dir\u001b[49m\u001b[43m=\u001b[49m\u001b[43mca_cert_dir\u001b[49m\u001b[43m,\u001b[49m\n\u001b[32m    976\u001b[39m \u001b[43m    \u001b[49m\u001b[43mca_cert_data\u001b[49m\u001b[43m=\u001b[49m\u001b[43mca_cert_data\u001b[49m\u001b[43m,\u001b[49m\n\u001b[32m    977\u001b[39m \u001b[43m    \u001b[49m\u001b[43mserver_hostname\u001b[49m\u001b[43m=\u001b[49m\u001b[43mserver_hostname\u001b[49m\u001b[43m,\u001b[49m\n\u001b[32m    978\u001b[39m \u001b[43m    \u001b[49m\u001b[43mssl_context\u001b[49m\u001b[43m=\u001b[49m\u001b[43mcontext\u001b[49m\u001b[43m,\u001b[49m\n\u001b[32m    979\u001b[39m \u001b[43m    \u001b[49m\u001b[43mtls_in_tls\u001b[49m\u001b[43m=\u001b[49m\u001b[43mtls_in_tls\u001b[49m\u001b[43m,\u001b[49m\n\u001b[32m    980\u001b[39m \u001b[43m\u001b[49m\u001b[43m)\u001b[49m\n\u001b[32m    982\u001b[39m \u001b[38;5;28;01mtry\u001b[39;00m:\n",
      "\u001b[36mFile \u001b[39m\u001b[32mc:\\Users\\playdata\\AppData\\Local\\Programs\\Python\\Python313\\Lib\\site-packages\\urllib3\\util\\ssl_.py:480\u001b[39m, in \u001b[36mssl_wrap_socket\u001b[39m\u001b[34m(sock, keyfile, certfile, cert_reqs, ca_certs, server_hostname, ssl_version, ciphers, ssl_context, ca_cert_dir, key_password, ca_cert_data, tls_in_tls)\u001b[39m\n\u001b[32m    478\u001b[39m context.set_alpn_protocols(ALPN_PROTOCOLS)\n\u001b[32m--> \u001b[39m\u001b[32m480\u001b[39m ssl_sock = \u001b[43m_ssl_wrap_socket_impl\u001b[49m\u001b[43m(\u001b[49m\u001b[43msock\u001b[49m\u001b[43m,\u001b[49m\u001b[43m \u001b[49m\u001b[43mcontext\u001b[49m\u001b[43m,\u001b[49m\u001b[43m \u001b[49m\u001b[43mtls_in_tls\u001b[49m\u001b[43m,\u001b[49m\u001b[43m \u001b[49m\u001b[43mserver_hostname\u001b[49m\u001b[43m)\u001b[49m\n\u001b[32m    481\u001b[39m \u001b[38;5;28;01mreturn\u001b[39;00m ssl_sock\n",
      "\u001b[36mFile \u001b[39m\u001b[32mc:\\Users\\playdata\\AppData\\Local\\Programs\\Python\\Python313\\Lib\\site-packages\\urllib3\\util\\ssl_.py:524\u001b[39m, in \u001b[36m_ssl_wrap_socket_impl\u001b[39m\u001b[34m(sock, ssl_context, tls_in_tls, server_hostname)\u001b[39m\n\u001b[32m    522\u001b[39m     \u001b[38;5;28;01mreturn\u001b[39;00m SSLTransport(sock, ssl_context, server_hostname)\n\u001b[32m--> \u001b[39m\u001b[32m524\u001b[39m \u001b[38;5;28;01mreturn\u001b[39;00m \u001b[43mssl_context\u001b[49m\u001b[43m.\u001b[49m\u001b[43mwrap_socket\u001b[49m\u001b[43m(\u001b[49m\u001b[43msock\u001b[49m\u001b[43m,\u001b[49m\u001b[43m \u001b[49m\u001b[43mserver_hostname\u001b[49m\u001b[43m=\u001b[49m\u001b[43mserver_hostname\u001b[49m\u001b[43m)\u001b[49m\n",
      "\u001b[36mFile \u001b[39m\u001b[32mc:\\Users\\playdata\\AppData\\Local\\Programs\\Python\\Python313\\Lib\\ssl.py:455\u001b[39m, in \u001b[36mSSLContext.wrap_socket\u001b[39m\u001b[34m(self, sock, server_side, do_handshake_on_connect, suppress_ragged_eofs, server_hostname, session)\u001b[39m\n\u001b[32m    449\u001b[39m \u001b[38;5;28;01mdef\u001b[39;00m\u001b[38;5;250m \u001b[39m\u001b[34mwrap_socket\u001b[39m(\u001b[38;5;28mself\u001b[39m, sock, server_side=\u001b[38;5;28;01mFalse\u001b[39;00m,\n\u001b[32m    450\u001b[39m                 do_handshake_on_connect=\u001b[38;5;28;01mTrue\u001b[39;00m,\n\u001b[32m    451\u001b[39m                 suppress_ragged_eofs=\u001b[38;5;28;01mTrue\u001b[39;00m,\n\u001b[32m    452\u001b[39m                 server_hostname=\u001b[38;5;28;01mNone\u001b[39;00m, session=\u001b[38;5;28;01mNone\u001b[39;00m):\n\u001b[32m    453\u001b[39m     \u001b[38;5;66;03m# SSLSocket class handles server_hostname encoding before it calls\u001b[39;00m\n\u001b[32m    454\u001b[39m     \u001b[38;5;66;03m# ctx._wrap_socket()\u001b[39;00m\n\u001b[32m--> \u001b[39m\u001b[32m455\u001b[39m     \u001b[38;5;28;01mreturn\u001b[39;00m \u001b[38;5;28;43mself\u001b[39;49m\u001b[43m.\u001b[49m\u001b[43msslsocket_class\u001b[49m\u001b[43m.\u001b[49m\u001b[43m_create\u001b[49m\u001b[43m(\u001b[49m\n\u001b[32m    456\u001b[39m \u001b[43m        \u001b[49m\u001b[43msock\u001b[49m\u001b[43m=\u001b[49m\u001b[43msock\u001b[49m\u001b[43m,\u001b[49m\n\u001b[32m    457\u001b[39m \u001b[43m        \u001b[49m\u001b[43mserver_side\u001b[49m\u001b[43m=\u001b[49m\u001b[43mserver_side\u001b[49m\u001b[43m,\u001b[49m\n\u001b[32m    458\u001b[39m \u001b[43m        \u001b[49m\u001b[43mdo_handshake_on_connect\u001b[49m\u001b[43m=\u001b[49m\u001b[43mdo_handshake_on_connect\u001b[49m\u001b[43m,\u001b[49m\n\u001b[32m    459\u001b[39m \u001b[43m        \u001b[49m\u001b[43msuppress_ragged_eofs\u001b[49m\u001b[43m=\u001b[49m\u001b[43msuppress_ragged_eofs\u001b[49m\u001b[43m,\u001b[49m\n\u001b[32m    460\u001b[39m \u001b[43m        \u001b[49m\u001b[43mserver_hostname\u001b[49m\u001b[43m=\u001b[49m\u001b[43mserver_hostname\u001b[49m\u001b[43m,\u001b[49m\n\u001b[32m    461\u001b[39m \u001b[43m        \u001b[49m\u001b[43mcontext\u001b[49m\u001b[43m=\u001b[49m\u001b[38;5;28;43mself\u001b[39;49m\u001b[43m,\u001b[49m\n\u001b[32m    462\u001b[39m \u001b[43m        \u001b[49m\u001b[43msession\u001b[49m\u001b[43m=\u001b[49m\u001b[43msession\u001b[49m\n\u001b[32m    463\u001b[39m \u001b[43m    \u001b[49m\u001b[43m)\u001b[49m\n",
      "\u001b[36mFile \u001b[39m\u001b[32mc:\\Users\\playdata\\AppData\\Local\\Programs\\Python\\Python313\\Lib\\ssl.py:1076\u001b[39m, in \u001b[36mSSLSocket._create\u001b[39m\u001b[34m(cls, sock, server_side, do_handshake_on_connect, suppress_ragged_eofs, server_hostname, context, session)\u001b[39m\n\u001b[32m   1075\u001b[39m                 \u001b[38;5;28;01mraise\u001b[39;00m \u001b[38;5;167;01mValueError\u001b[39;00m(\u001b[33m\"\u001b[39m\u001b[33mdo_handshake_on_connect should not be specified for non-blocking sockets\u001b[39m\u001b[33m\"\u001b[39m)\n\u001b[32m-> \u001b[39m\u001b[32m1076\u001b[39m             \u001b[38;5;28;43mself\u001b[39;49m\u001b[43m.\u001b[49m\u001b[43mdo_handshake\u001b[49m\u001b[43m(\u001b[49m\u001b[43m)\u001b[49m\n\u001b[32m   1077\u001b[39m \u001b[38;5;28;01mexcept\u001b[39;00m:\n",
      "\u001b[36mFile \u001b[39m\u001b[32mc:\\Users\\playdata\\AppData\\Local\\Programs\\Python\\Python313\\Lib\\ssl.py:1372\u001b[39m, in \u001b[36mSSLSocket.do_handshake\u001b[39m\u001b[34m(self, block)\u001b[39m\n\u001b[32m   1371\u001b[39m         \u001b[38;5;28mself\u001b[39m.settimeout(\u001b[38;5;28;01mNone\u001b[39;00m)\n\u001b[32m-> \u001b[39m\u001b[32m1372\u001b[39m     \u001b[38;5;28;43mself\u001b[39;49m\u001b[43m.\u001b[49m\u001b[43m_sslobj\u001b[49m\u001b[43m.\u001b[49m\u001b[43mdo_handshake\u001b[49m\u001b[43m(\u001b[49m\u001b[43m)\u001b[49m\n\u001b[32m   1373\u001b[39m \u001b[38;5;28;01mfinally\u001b[39;00m:\n",
      "\u001b[31mSSLCertVerificationError\u001b[39m: [SSL: CERTIFICATE_VERIFY_FAILED] certificate verify failed: certificate has expired (_ssl.c:1032)",
      "\nDuring handling of the above exception, another exception occurred:\n",
      "\u001b[31mSSLError\u001b[39m                                  Traceback (most recent call last)",
      "\u001b[36mFile \u001b[39m\u001b[32mc:\\Users\\playdata\\AppData\\Local\\Programs\\Python\\Python313\\Lib\\site-packages\\urllib3\\connectionpool.py:787\u001b[39m, in \u001b[36mHTTPConnectionPool.urlopen\u001b[39m\u001b[34m(self, method, url, body, headers, retries, redirect, assert_same_host, timeout, pool_timeout, release_conn, chunked, body_pos, preload_content, decode_content, **response_kw)\u001b[39m\n\u001b[32m    786\u001b[39m \u001b[38;5;66;03m# Make the request on the HTTPConnection object\u001b[39;00m\n\u001b[32m--> \u001b[39m\u001b[32m787\u001b[39m response = \u001b[38;5;28;43mself\u001b[39;49m\u001b[43m.\u001b[49m\u001b[43m_make_request\u001b[49m\u001b[43m(\u001b[49m\n\u001b[32m    788\u001b[39m \u001b[43m    \u001b[49m\u001b[43mconn\u001b[49m\u001b[43m,\u001b[49m\n\u001b[32m    789\u001b[39m \u001b[43m    \u001b[49m\u001b[43mmethod\u001b[49m\u001b[43m,\u001b[49m\n\u001b[32m    790\u001b[39m \u001b[43m    \u001b[49m\u001b[43murl\u001b[49m\u001b[43m,\u001b[49m\n\u001b[32m    791\u001b[39m \u001b[43m    \u001b[49m\u001b[43mtimeout\u001b[49m\u001b[43m=\u001b[49m\u001b[43mtimeout_obj\u001b[49m\u001b[43m,\u001b[49m\n\u001b[32m    792\u001b[39m \u001b[43m    \u001b[49m\u001b[43mbody\u001b[49m\u001b[43m=\u001b[49m\u001b[43mbody\u001b[49m\u001b[43m,\u001b[49m\n\u001b[32m    793\u001b[39m \u001b[43m    \u001b[49m\u001b[43mheaders\u001b[49m\u001b[43m=\u001b[49m\u001b[43mheaders\u001b[49m\u001b[43m,\u001b[49m\n\u001b[32m    794\u001b[39m \u001b[43m    \u001b[49m\u001b[43mchunked\u001b[49m\u001b[43m=\u001b[49m\u001b[43mchunked\u001b[49m\u001b[43m,\u001b[49m\n\u001b[32m    795\u001b[39m \u001b[43m    \u001b[49m\u001b[43mretries\u001b[49m\u001b[43m=\u001b[49m\u001b[43mretries\u001b[49m\u001b[43m,\u001b[49m\n\u001b[32m    796\u001b[39m \u001b[43m    \u001b[49m\u001b[43mresponse_conn\u001b[49m\u001b[43m=\u001b[49m\u001b[43mresponse_conn\u001b[49m\u001b[43m,\u001b[49m\n\u001b[32m    797\u001b[39m \u001b[43m    \u001b[49m\u001b[43mpreload_content\u001b[49m\u001b[43m=\u001b[49m\u001b[43mpreload_content\u001b[49m\u001b[43m,\u001b[49m\n\u001b[32m    798\u001b[39m \u001b[43m    \u001b[49m\u001b[43mdecode_content\u001b[49m\u001b[43m=\u001b[49m\u001b[43mdecode_content\u001b[49m\u001b[43m,\u001b[49m\n\u001b[32m    799\u001b[39m \u001b[43m    \u001b[49m\u001b[43m*\u001b[49m\u001b[43m*\u001b[49m\u001b[43mresponse_kw\u001b[49m\u001b[43m,\u001b[49m\n\u001b[32m    800\u001b[39m \u001b[43m\u001b[49m\u001b[43m)\u001b[49m\n\u001b[32m    802\u001b[39m \u001b[38;5;66;03m# Everything went great!\u001b[39;00m\n",
      "\u001b[36mFile \u001b[39m\u001b[32mc:\\Users\\playdata\\AppData\\Local\\Programs\\Python\\Python313\\Lib\\site-packages\\urllib3\\connectionpool.py:488\u001b[39m, in \u001b[36mHTTPConnectionPool._make_request\u001b[39m\u001b[34m(self, conn, method, url, body, headers, retries, timeout, chunked, response_conn, preload_content, decode_content, enforce_content_length)\u001b[39m\n\u001b[32m    487\u001b[39m         new_e = _wrap_proxy_error(new_e, conn.proxy.scheme)\n\u001b[32m--> \u001b[39m\u001b[32m488\u001b[39m     \u001b[38;5;28;01mraise\u001b[39;00m new_e\n\u001b[32m    490\u001b[39m \u001b[38;5;66;03m# conn.request() calls http.client.*.request, not the method in\u001b[39;00m\n\u001b[32m    491\u001b[39m \u001b[38;5;66;03m# urllib3.request. It also calls makefile (recv) on the socket.\u001b[39;00m\n",
      "\u001b[31mSSLError\u001b[39m: [SSL: CERTIFICATE_VERIFY_FAILED] certificate verify failed: certificate has expired (_ssl.c:1032)",
      "\nThe above exception was the direct cause of the following exception:\n",
      "\u001b[31mMaxRetryError\u001b[39m                             Traceback (most recent call last)",
      "\u001b[36mFile \u001b[39m\u001b[32mc:\\Users\\playdata\\AppData\\Local\\Programs\\Python\\Python313\\Lib\\site-packages\\requests\\adapters.py:644\u001b[39m, in \u001b[36mHTTPAdapter.send\u001b[39m\u001b[34m(self, request, stream, timeout, verify, cert, proxies)\u001b[39m\n\u001b[32m    643\u001b[39m \u001b[38;5;28;01mtry\u001b[39;00m:\n\u001b[32m--> \u001b[39m\u001b[32m644\u001b[39m     resp = \u001b[43mconn\u001b[49m\u001b[43m.\u001b[49m\u001b[43murlopen\u001b[49m\u001b[43m(\u001b[49m\n\u001b[32m    645\u001b[39m \u001b[43m        \u001b[49m\u001b[43mmethod\u001b[49m\u001b[43m=\u001b[49m\u001b[43mrequest\u001b[49m\u001b[43m.\u001b[49m\u001b[43mmethod\u001b[49m\u001b[43m,\u001b[49m\n\u001b[32m    646\u001b[39m \u001b[43m        \u001b[49m\u001b[43murl\u001b[49m\u001b[43m=\u001b[49m\u001b[43murl\u001b[49m\u001b[43m,\u001b[49m\n\u001b[32m    647\u001b[39m \u001b[43m        \u001b[49m\u001b[43mbody\u001b[49m\u001b[43m=\u001b[49m\u001b[43mrequest\u001b[49m\u001b[43m.\u001b[49m\u001b[43mbody\u001b[49m\u001b[43m,\u001b[49m\n\u001b[32m    648\u001b[39m \u001b[43m        \u001b[49m\u001b[43mheaders\u001b[49m\u001b[43m=\u001b[49m\u001b[43mrequest\u001b[49m\u001b[43m.\u001b[49m\u001b[43mheaders\u001b[49m\u001b[43m,\u001b[49m\n\u001b[32m    649\u001b[39m \u001b[43m        \u001b[49m\u001b[43mredirect\u001b[49m\u001b[43m=\u001b[49m\u001b[38;5;28;43;01mFalse\u001b[39;49;00m\u001b[43m,\u001b[49m\n\u001b[32m    650\u001b[39m \u001b[43m        \u001b[49m\u001b[43massert_same_host\u001b[49m\u001b[43m=\u001b[49m\u001b[38;5;28;43;01mFalse\u001b[39;49;00m\u001b[43m,\u001b[49m\n\u001b[32m    651\u001b[39m \u001b[43m        \u001b[49m\u001b[43mpreload_content\u001b[49m\u001b[43m=\u001b[49m\u001b[38;5;28;43;01mFalse\u001b[39;49;00m\u001b[43m,\u001b[49m\n\u001b[32m    652\u001b[39m \u001b[43m        \u001b[49m\u001b[43mdecode_content\u001b[49m\u001b[43m=\u001b[49m\u001b[38;5;28;43;01mFalse\u001b[39;49;00m\u001b[43m,\u001b[49m\n\u001b[32m    653\u001b[39m \u001b[43m        \u001b[49m\u001b[43mretries\u001b[49m\u001b[43m=\u001b[49m\u001b[38;5;28;43mself\u001b[39;49m\u001b[43m.\u001b[49m\u001b[43mmax_retries\u001b[49m\u001b[43m,\u001b[49m\n\u001b[32m    654\u001b[39m \u001b[43m        \u001b[49m\u001b[43mtimeout\u001b[49m\u001b[43m=\u001b[49m\u001b[43mtimeout\u001b[49m\u001b[43m,\u001b[49m\n\u001b[32m    655\u001b[39m \u001b[43m        \u001b[49m\u001b[43mchunked\u001b[49m\u001b[43m=\u001b[49m\u001b[43mchunked\u001b[49m\u001b[43m,\u001b[49m\n\u001b[32m    656\u001b[39m \u001b[43m    \u001b[49m\u001b[43m)\u001b[49m\n\u001b[32m    658\u001b[39m \u001b[38;5;28;01mexcept\u001b[39;00m (ProtocolError, \u001b[38;5;167;01mOSError\u001b[39;00m) \u001b[38;5;28;01mas\u001b[39;00m err:\n",
      "\u001b[36mFile \u001b[39m\u001b[32mc:\\Users\\playdata\\AppData\\Local\\Programs\\Python\\Python313\\Lib\\site-packages\\urllib3\\connectionpool.py:841\u001b[39m, in \u001b[36mHTTPConnectionPool.urlopen\u001b[39m\u001b[34m(self, method, url, body, headers, retries, redirect, assert_same_host, timeout, pool_timeout, release_conn, chunked, body_pos, preload_content, decode_content, **response_kw)\u001b[39m\n\u001b[32m    839\u001b[39m     new_e = ProtocolError(\u001b[33m\"\u001b[39m\u001b[33mConnection aborted.\u001b[39m\u001b[33m\"\u001b[39m, new_e)\n\u001b[32m--> \u001b[39m\u001b[32m841\u001b[39m retries = \u001b[43mretries\u001b[49m\u001b[43m.\u001b[49m\u001b[43mincrement\u001b[49m\u001b[43m(\u001b[49m\n\u001b[32m    842\u001b[39m \u001b[43m    \u001b[49m\u001b[43mmethod\u001b[49m\u001b[43m,\u001b[49m\u001b[43m \u001b[49m\u001b[43murl\u001b[49m\u001b[43m,\u001b[49m\u001b[43m \u001b[49m\u001b[43merror\u001b[49m\u001b[43m=\u001b[49m\u001b[43mnew_e\u001b[49m\u001b[43m,\u001b[49m\u001b[43m \u001b[49m\u001b[43m_pool\u001b[49m\u001b[43m=\u001b[49m\u001b[38;5;28;43mself\u001b[39;49m\u001b[43m,\u001b[49m\u001b[43m \u001b[49m\u001b[43m_stacktrace\u001b[49m\u001b[43m=\u001b[49m\u001b[43msys\u001b[49m\u001b[43m.\u001b[49m\u001b[43mexc_info\u001b[49m\u001b[43m(\u001b[49m\u001b[43m)\u001b[49m\u001b[43m[\u001b[49m\u001b[32;43m2\u001b[39;49m\u001b[43m]\u001b[49m\n\u001b[32m    843\u001b[39m \u001b[43m\u001b[49m\u001b[43m)\u001b[49m\n\u001b[32m    844\u001b[39m retries.sleep()\n",
      "\u001b[36mFile \u001b[39m\u001b[32mc:\\Users\\playdata\\AppData\\Local\\Programs\\Python\\Python313\\Lib\\site-packages\\urllib3\\util\\retry.py:519\u001b[39m, in \u001b[36mRetry.increment\u001b[39m\u001b[34m(self, method, url, response, error, _pool, _stacktrace)\u001b[39m\n\u001b[32m    518\u001b[39m     reason = error \u001b[38;5;129;01mor\u001b[39;00m ResponseError(cause)\n\u001b[32m--> \u001b[39m\u001b[32m519\u001b[39m     \u001b[38;5;28;01mraise\u001b[39;00m MaxRetryError(_pool, url, reason) \u001b[38;5;28;01mfrom\u001b[39;00m\u001b[38;5;250m \u001b[39m\u001b[34;01mreason\u001b[39;00m  \u001b[38;5;66;03m# type: ignore[arg-type]\u001b[39;00m\n\u001b[32m    521\u001b[39m log.debug(\u001b[33m\"\u001b[39m\u001b[33mIncremented Retry for (url=\u001b[39m\u001b[33m'\u001b[39m\u001b[38;5;132;01m%s\u001b[39;00m\u001b[33m'\u001b[39m\u001b[33m): \u001b[39m\u001b[38;5;132;01m%r\u001b[39;00m\u001b[33m\"\u001b[39m, url, new_retry)\n",
      "\u001b[31mMaxRetryError\u001b[39m: HTTPSConnectionPool(host='api.dapada.io', port=443): Max retries exceeded with url: /company/getConsolidatedFinancialDataByTTM?apiKey=----%EB%B0%9C%EA%B8%89%EB%B0%9B%EC%9D%80%20API%20%ED%82%A4%EB%A5%BC%20%EC%9E%85%EB%A0%A5-----&indicatorName=%EB%A7%A4%EC%B6%9C%EC%95%A1&stockCode=005930 (Caused by SSLError(SSLCertVerificationError(1, '[SSL: CERTIFICATE_VERIFY_FAILED] certificate verify failed: certificate has expired (_ssl.c:1032)')))",
      "\nDuring handling of the above exception, another exception occurred:\n",
      "\u001b[31mSSLError\u001b[39m                                  Traceback (most recent call last)",
      "\u001b[36mCell\u001b[39m\u001b[36m \u001b[39m\u001b[32mIn[11]\u001b[39m\u001b[32m, line 2\u001b[39m\n\u001b[32m      1\u001b[39m \u001b[38;5;66;03m# 삼성전자(005930)의 연결 재무제표 (TTM 기준)에서 \"매출액\" 항목의 데이터 수집\u001b[39;00m\n\u001b[32m----> \u001b[39m\u001b[32m2\u001b[39m df_ttm_consolidated = \u001b[43mget_financials\u001b[49m\u001b[43m(\u001b[49m\u001b[43mstockCode\u001b[49m\u001b[43m=\u001b[49m\u001b[33;43m'\u001b[39;49m\u001b[33;43m005930\u001b[39;49m\u001b[33;43m'\u001b[39;49m\u001b[43m,\u001b[49m\u001b[43m \u001b[49m\n\u001b[32m      3\u001b[39m \u001b[43m                                     \u001b[49m\u001b[43mindicatorName\u001b[49m\u001b[43m=\u001b[49m\u001b[33;43m'\u001b[39;49m\u001b[33;43m매출액\u001b[39;49m\u001b[33;43m'\u001b[39;49m\u001b[43m,\u001b[49m\u001b[43m \u001b[49m\n\u001b[32m      4\u001b[39m \u001b[43m                                     \u001b[49m\u001b[43mapiKey\u001b[49m\u001b[43m=\u001b[49m\u001b[43mmy_key\u001b[49m\u001b[43m,\u001b[49m\u001b[43m \u001b[49m\n\u001b[32m      5\u001b[39m \u001b[43m                                     \u001b[49m\u001b[43mconsolidated\u001b[49m\u001b[43m=\u001b[49m\u001b[38;5;28;43;01mTrue\u001b[39;49;00m\u001b[43m,\u001b[49m\u001b[43m \u001b[49m\n\u001b[32m      6\u001b[39m \u001b[43m                                     \u001b[49m\u001b[43mttm\u001b[49m\u001b[43m=\u001b[49m\u001b[38;5;28;43;01mTrue\u001b[39;49;00m\u001b[43m)\u001b[49m\n\u001b[32m      8\u001b[39m df_ttm_consolidated\n",
      "\u001b[36mCell\u001b[39m\u001b[36m \u001b[39m\u001b[32mIn[10]\u001b[39m\u001b[32m, line 23\u001b[39m, in \u001b[36mget_financials\u001b[39m\u001b[34m(stockCode, indicatorName, apiKey, consolidated, ttm)\u001b[39m\n\u001b[32m     20\u001b[39m         url = \u001b[33mf\u001b[39m\u001b[33m\"\u001b[39m\u001b[33mhttps://api.dapada.io/company/getSeparatedFinancialDataByCUR?apiKey=\u001b[39m\u001b[38;5;132;01m{\u001b[39;00mapiKey\u001b[38;5;132;01m}\u001b[39;00m\u001b[33m&indicatorName=\u001b[39m\u001b[38;5;132;01m{\u001b[39;00mindicatorName\u001b[38;5;132;01m}\u001b[39;00m\u001b[33m&stockCode=\u001b[39m\u001b[38;5;132;01m{\u001b[39;00mstockCode\u001b[38;5;132;01m}\u001b[39;00m\u001b[33m\"\u001b[39m       \n\u001b[32m     22\u001b[39m headers = {\u001b[33m\"\u001b[39m\u001b[33mapiKey\u001b[39m\u001b[33m\"\u001b[39m: \u001b[33mf\u001b[39m\u001b[33m\"\u001b[39m\u001b[38;5;132;01m{\u001b[39;00mapiKey\u001b[38;5;132;01m}\u001b[39;00m\u001b[33m\"\u001b[39m}\n\u001b[32m---> \u001b[39m\u001b[32m23\u001b[39m response = \u001b[43mrequests\u001b[49m\u001b[43m.\u001b[49m\u001b[43mget\u001b[49m\u001b[43m(\u001b[49m\u001b[43murl\u001b[49m\u001b[43m,\u001b[49m\u001b[43m \u001b[49m\u001b[43mheaders\u001b[49m\u001b[43m=\u001b[49m\u001b[43mheaders\u001b[49m\u001b[43m)\u001b[49m\n\u001b[32m     24\u001b[39m result = response.json()\n\u001b[32m     25\u001b[39m \u001b[38;5;28;01mreturn\u001b[39;00m pd.DataFrame(result)\n",
      "\u001b[36mFile \u001b[39m\u001b[32mc:\\Users\\playdata\\AppData\\Local\\Programs\\Python\\Python313\\Lib\\site-packages\\requests\\api.py:73\u001b[39m, in \u001b[36mget\u001b[39m\u001b[34m(url, params, **kwargs)\u001b[39m\n\u001b[32m     62\u001b[39m \u001b[38;5;28;01mdef\u001b[39;00m\u001b[38;5;250m \u001b[39m\u001b[34mget\u001b[39m(url, params=\u001b[38;5;28;01mNone\u001b[39;00m, **kwargs):\n\u001b[32m     63\u001b[39m \u001b[38;5;250m    \u001b[39m\u001b[33mr\u001b[39m\u001b[33;03m\"\"\"Sends a GET request.\u001b[39;00m\n\u001b[32m     64\u001b[39m \n\u001b[32m     65\u001b[39m \u001b[33;03m    :param url: URL for the new :class:`Request` object.\u001b[39;00m\n\u001b[32m   (...)\u001b[39m\u001b[32m     70\u001b[39m \u001b[33;03m    :rtype: requests.Response\u001b[39;00m\n\u001b[32m     71\u001b[39m \u001b[33;03m    \"\"\"\u001b[39;00m\n\u001b[32m---> \u001b[39m\u001b[32m73\u001b[39m     \u001b[38;5;28;01mreturn\u001b[39;00m \u001b[43mrequest\u001b[49m\u001b[43m(\u001b[49m\u001b[33;43m\"\u001b[39;49m\u001b[33;43mget\u001b[39;49m\u001b[33;43m\"\u001b[39;49m\u001b[43m,\u001b[49m\u001b[43m \u001b[49m\u001b[43murl\u001b[49m\u001b[43m,\u001b[49m\u001b[43m \u001b[49m\u001b[43mparams\u001b[49m\u001b[43m=\u001b[49m\u001b[43mparams\u001b[49m\u001b[43m,\u001b[49m\u001b[43m \u001b[49m\u001b[43m*\u001b[49m\u001b[43m*\u001b[49m\u001b[43mkwargs\u001b[49m\u001b[43m)\u001b[49m\n",
      "\u001b[36mFile \u001b[39m\u001b[32mc:\\Users\\playdata\\AppData\\Local\\Programs\\Python\\Python313\\Lib\\site-packages\\requests\\api.py:59\u001b[39m, in \u001b[36mrequest\u001b[39m\u001b[34m(method, url, **kwargs)\u001b[39m\n\u001b[32m     55\u001b[39m \u001b[38;5;66;03m# By using the 'with' statement we are sure the session is closed, thus we\u001b[39;00m\n\u001b[32m     56\u001b[39m \u001b[38;5;66;03m# avoid leaving sockets open which can trigger a ResourceWarning in some\u001b[39;00m\n\u001b[32m     57\u001b[39m \u001b[38;5;66;03m# cases, and look like a memory leak in others.\u001b[39;00m\n\u001b[32m     58\u001b[39m \u001b[38;5;28;01mwith\u001b[39;00m sessions.Session() \u001b[38;5;28;01mas\u001b[39;00m session:\n\u001b[32m---> \u001b[39m\u001b[32m59\u001b[39m     \u001b[38;5;28;01mreturn\u001b[39;00m \u001b[43msession\u001b[49m\u001b[43m.\u001b[49m\u001b[43mrequest\u001b[49m\u001b[43m(\u001b[49m\u001b[43mmethod\u001b[49m\u001b[43m=\u001b[49m\u001b[43mmethod\u001b[49m\u001b[43m,\u001b[49m\u001b[43m \u001b[49m\u001b[43murl\u001b[49m\u001b[43m=\u001b[49m\u001b[43murl\u001b[49m\u001b[43m,\u001b[49m\u001b[43m \u001b[49m\u001b[43m*\u001b[49m\u001b[43m*\u001b[49m\u001b[43mkwargs\u001b[49m\u001b[43m)\u001b[49m\n",
      "\u001b[36mFile \u001b[39m\u001b[32mc:\\Users\\playdata\\AppData\\Local\\Programs\\Python\\Python313\\Lib\\site-packages\\requests\\sessions.py:589\u001b[39m, in \u001b[36mSession.request\u001b[39m\u001b[34m(self, method, url, params, data, headers, cookies, files, auth, timeout, allow_redirects, proxies, hooks, stream, verify, cert, json)\u001b[39m\n\u001b[32m    584\u001b[39m send_kwargs = {\n\u001b[32m    585\u001b[39m     \u001b[33m\"\u001b[39m\u001b[33mtimeout\u001b[39m\u001b[33m\"\u001b[39m: timeout,\n\u001b[32m    586\u001b[39m     \u001b[33m\"\u001b[39m\u001b[33mallow_redirects\u001b[39m\u001b[33m\"\u001b[39m: allow_redirects,\n\u001b[32m    587\u001b[39m }\n\u001b[32m    588\u001b[39m send_kwargs.update(settings)\n\u001b[32m--> \u001b[39m\u001b[32m589\u001b[39m resp = \u001b[38;5;28;43mself\u001b[39;49m\u001b[43m.\u001b[49m\u001b[43msend\u001b[49m\u001b[43m(\u001b[49m\u001b[43mprep\u001b[49m\u001b[43m,\u001b[49m\u001b[43m \u001b[49m\u001b[43m*\u001b[49m\u001b[43m*\u001b[49m\u001b[43msend_kwargs\u001b[49m\u001b[43m)\u001b[49m\n\u001b[32m    591\u001b[39m \u001b[38;5;28;01mreturn\u001b[39;00m resp\n",
      "\u001b[36mFile \u001b[39m\u001b[32mc:\\Users\\playdata\\AppData\\Local\\Programs\\Python\\Python313\\Lib\\site-packages\\requests\\sessions.py:703\u001b[39m, in \u001b[36mSession.send\u001b[39m\u001b[34m(self, request, **kwargs)\u001b[39m\n\u001b[32m    700\u001b[39m start = preferred_clock()\n\u001b[32m    702\u001b[39m \u001b[38;5;66;03m# Send the request\u001b[39;00m\n\u001b[32m--> \u001b[39m\u001b[32m703\u001b[39m r = \u001b[43madapter\u001b[49m\u001b[43m.\u001b[49m\u001b[43msend\u001b[49m\u001b[43m(\u001b[49m\u001b[43mrequest\u001b[49m\u001b[43m,\u001b[49m\u001b[43m \u001b[49m\u001b[43m*\u001b[49m\u001b[43m*\u001b[49m\u001b[43mkwargs\u001b[49m\u001b[43m)\u001b[49m\n\u001b[32m    705\u001b[39m \u001b[38;5;66;03m# Total elapsed time of the request (approximately)\u001b[39;00m\n\u001b[32m    706\u001b[39m elapsed = preferred_clock() - start\n",
      "\u001b[36mFile \u001b[39m\u001b[32mc:\\Users\\playdata\\AppData\\Local\\Programs\\Python\\Python313\\Lib\\site-packages\\requests\\adapters.py:675\u001b[39m, in \u001b[36mHTTPAdapter.send\u001b[39m\u001b[34m(self, request, stream, timeout, verify, cert, proxies)\u001b[39m\n\u001b[32m    671\u001b[39m         \u001b[38;5;28;01mraise\u001b[39;00m ProxyError(e, request=request)\n\u001b[32m    673\u001b[39m     \u001b[38;5;28;01mif\u001b[39;00m \u001b[38;5;28misinstance\u001b[39m(e.reason, _SSLError):\n\u001b[32m    674\u001b[39m         \u001b[38;5;66;03m# This branch is for urllib3 v1.22 and later.\u001b[39;00m\n\u001b[32m--> \u001b[39m\u001b[32m675\u001b[39m         \u001b[38;5;28;01mraise\u001b[39;00m SSLError(e, request=request)\n\u001b[32m    677\u001b[39m     \u001b[38;5;28;01mraise\u001b[39;00m \u001b[38;5;167;01mConnectionError\u001b[39;00m(e, request=request)\n\u001b[32m    679\u001b[39m \u001b[38;5;28;01mexcept\u001b[39;00m ClosedPoolError \u001b[38;5;28;01mas\u001b[39;00m e:\n",
      "\u001b[31mSSLError\u001b[39m: HTTPSConnectionPool(host='api.dapada.io', port=443): Max retries exceeded with url: /company/getConsolidatedFinancialDataByTTM?apiKey=----%EB%B0%9C%EA%B8%89%EB%B0%9B%EC%9D%80%20API%20%ED%82%A4%EB%A5%BC%20%EC%9E%85%EB%A0%A5-----&indicatorName=%EB%A7%A4%EC%B6%9C%EC%95%A1&stockCode=005930 (Caused by SSLError(SSLCertVerificationError(1, '[SSL: CERTIFICATE_VERIFY_FAILED] certificate verify failed: certificate has expired (_ssl.c:1032)')))"
     ]
=======
     "data": {
      "text/html": [
       "<div>\n",
       "<style scoped>\n",
       "    .dataframe tbody tr th:only-of-type {\n",
       "        vertical-align: middle;\n",
       "    }\n",
       "\n",
       "    .dataframe tbody tr th {\n",
       "        vertical-align: top;\n",
       "    }\n",
       "\n",
       "    .dataframe thead th {\n",
       "        text-align: right;\n",
       "    }\n",
       "</style>\n",
       "<table border=\"1\" class=\"dataframe\">\n",
       "  <thead>\n",
       "    <tr style=\"text-align: right;\">\n",
       "      <th></th>\n",
       "      <th>value</th>\n",
       "      <th>quarter</th>\n",
       "    </tr>\n",
       "  </thead>\n",
       "  <tbody>\n",
       "    <tr>\n",
       "      <th>0</th>\n",
       "      <td>261620131000000</td>\n",
       "      <td>2023-Q3</td>\n",
       "    </tr>\n",
       "    <tr>\n",
       "      <th>1</th>\n",
       "      <td>270997159000000</td>\n",
       "      <td>2023-Q2</td>\n",
       "    </tr>\n",
       "    <tr>\n",
       "      <th>2</th>\n",
       "      <td>288195233000000</td>\n",
       "      <td>2023-Q1</td>\n",
       "    </tr>\n",
       "    <tr>\n",
       "      <th>3</th>\n",
       "      <td>302231360000000</td>\n",
       "      <td>2022-Q4</td>\n",
       "    </tr>\n",
       "    <tr>\n",
       "      <th>4</th>\n",
       "      <td>308332309000000</td>\n",
       "      <td>2022-Q3</td>\n",
       "    </tr>\n",
       "    <tr>\n",
       "      <th>5</th>\n",
       "      <td>305529816000000</td>\n",
       "      <td>2022-Q2</td>\n",
       "    </tr>\n",
       "  </tbody>\n",
       "</table>\n",
       "</div>"
      ],
      "text/plain": [
       "             value  quarter\n",
       "0  261620131000000  2023-Q3\n",
       "1  270997159000000  2023-Q2\n",
       "2  288195233000000  2023-Q1\n",
       "3  302231360000000  2022-Q4\n",
       "4  308332309000000  2022-Q3\n",
       "5  305529816000000  2022-Q2"
      ]
     },
     "execution_count": 2,
     "metadata": {},
     "output_type": "execute_result"
>>>>>>> 492b8c55dc7632e22155f0ec3ceabdbea83d10ad
    }
   ],
   "source": [
    "# 삼성전자(005930)의 연결 재무제표 (TTM 기준)에서 \"매출액\" 항목의 데이터 수집\n",
    "df_ttm_consolidated = get_financials(stockCode='005930', \n",
    "                                     indicatorName='매출액', \n",
    "                                     apiKey=my_key, \n",
    "                                     consolidated=True, \n",
    "                                     ttm=True)\n",
    "\n",
    "df_ttm_consolidated"
   ]
  },
  {
   "cell_type": "code",
<<<<<<< HEAD
   "execution_count": null,
=======
   "execution_count": 3,
>>>>>>> 492b8c55dc7632e22155f0ec3ceabdbea83d10ad
   "metadata": {
    "tags": []
   },
   "outputs": [
    {
     "data": {
      "text/html": [
       "<div>\n",
       "<style scoped>\n",
       "    .dataframe tbody tr th:only-of-type {\n",
       "        vertical-align: middle;\n",
       "    }\n",
       "\n",
       "    .dataframe tbody tr th {\n",
       "        vertical-align: top;\n",
       "    }\n",
       "\n",
       "    .dataframe thead th {\n",
       "        text-align: right;\n",
       "    }\n",
       "</style>\n",
       "<table border=\"1\" class=\"dataframe\">\n",
       "  <thead>\n",
       "    <tr style=\"text-align: right;\">\n",
       "      <th></th>\n",
       "      <th>value</th>\n",
       "      <th>quarter</th>\n",
       "    </tr>\n",
       "  </thead>\n",
       "  <tbody>\n",
       "    <tr>\n",
       "      <th>0</th>\n",
       "      <td>67404652000000</td>\n",
       "      <td>2023-Q3</td>\n",
       "    </tr>\n",
       "    <tr>\n",
       "      <th>1</th>\n",
       "      <td>60005533000000</td>\n",
       "      <td>2023-Q2</td>\n",
       "    </tr>\n",
       "    <tr>\n",
       "      <th>2</th>\n",
       "      <td>63745371000000</td>\n",
       "      <td>2023-Q1</td>\n",
       "    </tr>\n",
       "    <tr>\n",
       "      <th>3</th>\n",
       "      <td>70464575000000</td>\n",
       "      <td>2022-Q4</td>\n",
       "    </tr>\n",
       "    <tr>\n",
       "      <th>4</th>\n",
       "      <td>76781680000000</td>\n",
       "      <td>2022-Q3</td>\n",
       "    </tr>\n",
       "    <tr>\n",
       "      <th>5</th>\n",
       "      <td>77203607000000</td>\n",
       "      <td>2022-Q2</td>\n",
       "    </tr>\n",
       "  </tbody>\n",
       "</table>\n",
       "</div>"
      ],
      "text/plain": [
       "            value  quarter\n",
       "0  67404652000000  2023-Q3\n",
       "1  60005533000000  2023-Q2\n",
       "2  63745371000000  2023-Q1\n",
       "3  70464575000000  2022-Q4\n",
       "4  76781680000000  2022-Q3\n",
       "5  77203607000000  2022-Q2"
      ]
     },
     "execution_count": 3,
     "metadata": {},
     "output_type": "execute_result"
    }
   ],
   "source": [
    "# 삼성전자(005930)의 연결 재무제표 (분기 기준)에서 \"매출액\" 항목의 데이터 수집\n",
    "df_cur_consolidated = get_financials(stockCode='005930', \n",
    "                                     indicatorName='매출액', \n",
    "                                     apiKey=my_key, \n",
    "                                     consolidated=True, \n",
    "                                     ttm=False)\n",
    "\n",
    "df_cur_consolidated"
   ]
  },
  {
   "cell_type": "code",
<<<<<<< HEAD
   "execution_count": null,
=======
   "execution_count": 5,
>>>>>>> 492b8c55dc7632e22155f0ec3ceabdbea83d10ad
   "metadata": {
    "tags": []
   },
   "outputs": [],
   "source": [
    "# CSV 파일로 저장\n",
    "df_cur_consolidated.to_csv(\"./data/삼성전자_분기별_매출액.csv\", index=False)"
   ]
<<<<<<< HEAD
  },
  {
   "cell_type": "markdown",
   "metadata": {},
   "source": [
    "금융감독원 OPEN  DART"
   ]
  },
  {
   "cell_type": "code",
   "execution_count": null,
   "metadata": {},
   "outputs": [
    {
     "name": "stdout",
     "output_type": "stream",
     "text": [
      "{'status': '000', 'message': '정상', 'page_no': 1, 'page_count': 10, 'total_count': 139, 'total_page': 14, 'list': [{'corp_code': '00356370', 'corp_name': 'LG생활건강', 'stock_code': '051900', 'corp_cls': 'Y', 'report_nm': '주주명부폐쇄기간또는기준일설정              ', 'rcept_no': '20250929800174', 'flr_nm': 'LG생활건강', 'rcept_dt': '20250929', 'rm': '유'}, {'corp_code': '00356370', 'corp_name': 'LG생활건강', 'stock_code': '051900', 'corp_cls': 'Y', 'report_nm': '주주총회소집결의              ', 'rcept_no': '20250929800170', 'flr_nm': 'LG생활건강', 'rcept_dt': '20250929', 'rm': '유'}, {'corp_code': '00492894', 'corp_name': '젬백스', 'stock_code': '082270', 'corp_cls': 'K', 'report_nm': '[기재정정]주요사항보고서(유상증자결정)', 'rcept_no': '20250929000118', 'flr_nm': '젬백스', 'rcept_dt': '20250929', 'rm': ''}, {'corp_code': '01700587', 'corp_name': '이노스페이스', 'stock_code': '462350', 'corp_cls': 'K', 'report_nm': '전환주식의전환가액조정              (전환우선주)', 'rcept_no': '20250929900167', 'flr_nm': '이노스페이스', 'rcept_dt': '20250929', 'rm': '코'}, {'corp_code': '01139035', 'corp_name': '티에스아이', 'stock_code': '277880', 'corp_cls': 'K', 'report_nm': '자기주식취득결과보고서', 'rcept_no': '20250929000116', 'flr_nm': '티에스아이', 'rcept_dt': '20250929', 'rm': ''}, {'corp_code': '00654175', 'corp_name': '피엠티', 'stock_code': '147760', 'corp_cls': 'K', 'report_nm': '임원ㆍ주요주주특정증권등거래계획보고서', 'rcept_no': '20250929000115', 'flr_nm': '프로텍', 'rcept_dt': '20250929', 'rm': ''}, {'corp_code': '01335453', 'corp_name': '오하임앤컴퍼니', 'stock_code': '309930', 'corp_cls': 'K', 'report_nm': '상호변경안내              ', 'rcept_no': '20250929900165', 'flr_nm': '오하임앤컴퍼니', 'rcept_dt': '20250929', 'rm': '코'}, {'corp_code': '01335453', 'corp_name': '오하임앤컴퍼니', 'stock_code': '309930', 'corp_cls': 'K', 'report_nm': '임시주주총회결과              ', 'rcept_no': '20250929900164', 'flr_nm': '오하임앤컴퍼니', 'rcept_dt': '20250929', 'rm': '코'}, {'corp_code': '01611441', 'corp_name': '디디아이오에스108위탁관리부동산투자회사', 'stock_code': '', 'corp_cls': 'E', 'report_nm': '감사보고서 (2025.06)', 'rcept_no': '20250929000113', 'flr_nm': '윤성회계법인', 'rcept_dt': '20250929', 'rm': ''}, {'corp_code': '00385363', 'corp_name': '빅텍', 'stock_code': '065450', 'corp_cls': 'K', 'report_nm': '[기재정정]단일판매ㆍ공급계약체결              ', 'rcept_no': '20250929900161', 'flr_nm': '빅텍', 'rcept_dt': '20250929', 'rm': '코'}]}\n"
     ]
    }
   ],
   "source": [
    "import dotenv\n",
    "import os\n",
    "dotenv.load_dotenv()\n",
    "key = os.getenv('open_dart_key')\n",
    "\n",
    "url = 'https://opendart.fss.or.kr/api/list.json'\n",
    "params = {\n",
    "    'crtfc_key' : key,\n",
    "    'page_count' : 100\n",
    "}\n",
    "response = requests.get(url,params=params)\n",
    "if response.status_code == 200:  # 통신성공\n",
    "    print(response.json())\n",
    "else:\n",
    "    print(\"통신오류\")"
   ]
  },
  {
   "cell_type": "code",
   "execution_count": 12,
   "metadata": {},
   "outputs": [
    {
     "data": {
      "text/plain": [
       "b'{\"status\":\"000\",\"message\":\"\\xec\\xa0\\x95\\xec\\x83\\x81\",\"page_no\":1,\"page_count\":10,\"total_count\":139,\"total_page\":14,\"list\":[{\"corp_code\":\"00356370\",\"corp_name\":\"LG\\xec\\x83\\x9d\\xed\\x99\\x9c\\xea\\xb1\\xb4\\xea\\xb0\\x95\",\"stock_code\":\"051900\",\"corp_cls\":\"Y\",\"report_nm\":\"\\xec\\xa3\\xbc\\xec\\xa3\\xbc\\xeb\\xaa\\x85\\xeb\\xb6\\x80\\xed\\x8f\\x90\\xec\\x87\\x84\\xea\\xb8\\xb0\\xea\\xb0\\x84\\xeb\\x98\\x90\\xeb\\x8a\\x94\\xea\\xb8\\xb0\\xec\\xa4\\x80\\xec\\x9d\\xbc\\xec\\x84\\xa4\\xec\\xa0\\x95              \",\"rcept_no\":\"20250929800174\",\"flr_nm\":\"LG\\xec\\x83\\x9d\\xed\\x99\\x9c\\xea\\xb1\\xb4\\xea\\xb0\\x95\",\"rcept_dt\":\"20250929\",\"rm\":\"\\xec\\x9c\\xa0\"},{\"corp_code\":\"00356370\",\"corp_name\":\"LG\\xec\\x83\\x9d\\xed\\x99\\x9c\\xea\\xb1\\xb4\\xea\\xb0\\x95\",\"stock_code\":\"051900\",\"corp_cls\":\"Y\",\"report_nm\":\"\\xec\\xa3\\xbc\\xec\\xa3\\xbc\\xec\\xb4\\x9d\\xed\\x9a\\x8c\\xec\\x86\\x8c\\xec\\xa7\\x91\\xea\\xb2\\xb0\\xec\\x9d\\x98              \",\"rcept_no\":\"20250929800170\",\"flr_nm\":\"LG\\xec\\x83\\x9d\\xed\\x99\\x9c\\xea\\xb1\\xb4\\xea\\xb0\\x95\",\"rcept_dt\":\"20250929\",\"rm\":\"\\xec\\x9c\\xa0\"},{\"corp_code\":\"00492894\",\"corp_name\":\"\\xec\\xa0\\xac\\xeb\\xb0\\xb1\\xec\\x8a\\xa4\",\"stock_code\":\"082270\",\"corp_cls\":\"K\",\"report_nm\":\"[\\xea\\xb8\\xb0\\xec\\x9e\\xac\\xec\\xa0\\x95\\xec\\xa0\\x95]\\xec\\xa3\\xbc\\xec\\x9a\\x94\\xec\\x82\\xac\\xed\\x95\\xad\\xeb\\xb3\\xb4\\xea\\xb3\\xa0\\xec\\x84\\x9c(\\xec\\x9c\\xa0\\xec\\x83\\x81\\xec\\xa6\\x9d\\xec\\x9e\\x90\\xea\\xb2\\xb0\\xec\\xa0\\x95)\",\"rcept_no\":\"20250929000118\",\"flr_nm\":\"\\xec\\xa0\\xac\\xeb\\xb0\\xb1\\xec\\x8a\\xa4\",\"rcept_dt\":\"20250929\",\"rm\":\"\"},{\"corp_code\":\"01700587\",\"corp_name\":\"\\xec\\x9d\\xb4\\xeb\\x85\\xb8\\xec\\x8a\\xa4\\xed\\x8e\\x98\\xec\\x9d\\xb4\\xec\\x8a\\xa4\",\"stock_code\":\"462350\",\"corp_cls\":\"K\",\"report_nm\":\"\\xec\\xa0\\x84\\xed\\x99\\x98\\xec\\xa3\\xbc\\xec\\x8b\\x9d\\xec\\x9d\\x98\\xec\\xa0\\x84\\xed\\x99\\x98\\xea\\xb0\\x80\\xec\\x95\\xa1\\xec\\xa1\\xb0\\xec\\xa0\\x95              (\\xec\\xa0\\x84\\xed\\x99\\x98\\xec\\x9a\\xb0\\xec\\x84\\xa0\\xec\\xa3\\xbc)\",\"rcept_no\":\"20250929900167\",\"flr_nm\":\"\\xec\\x9d\\xb4\\xeb\\x85\\xb8\\xec\\x8a\\xa4\\xed\\x8e\\x98\\xec\\x9d\\xb4\\xec\\x8a\\xa4\",\"rcept_dt\":\"20250929\",\"rm\":\"\\xec\\xbd\\x94\"},{\"corp_code\":\"01139035\",\"corp_name\":\"\\xed\\x8b\\xb0\\xec\\x97\\x90\\xec\\x8a\\xa4\\xec\\x95\\x84\\xec\\x9d\\xb4\",\"stock_code\":\"277880\",\"corp_cls\":\"K\",\"report_nm\":\"\\xec\\x9e\\x90\\xea\\xb8\\xb0\\xec\\xa3\\xbc\\xec\\x8b\\x9d\\xec\\xb7\\xa8\\xeb\\x93\\x9d\\xea\\xb2\\xb0\\xea\\xb3\\xbc\\xeb\\xb3\\xb4\\xea\\xb3\\xa0\\xec\\x84\\x9c\",\"rcept_no\":\"20250929000116\",\"flr_nm\":\"\\xed\\x8b\\xb0\\xec\\x97\\x90\\xec\\x8a\\xa4\\xec\\x95\\x84\\xec\\x9d\\xb4\",\"rcept_dt\":\"20250929\",\"rm\":\"\"},{\"corp_code\":\"00654175\",\"corp_name\":\"\\xed\\x94\\xbc\\xec\\x97\\xa0\\xed\\x8b\\xb0\",\"stock_code\":\"147760\",\"corp_cls\":\"K\",\"report_nm\":\"\\xec\\x9e\\x84\\xec\\x9b\\x90\\xe3\\x86\\x8d\\xec\\xa3\\xbc\\xec\\x9a\\x94\\xec\\xa3\\xbc\\xec\\xa3\\xbc\\xed\\x8a\\xb9\\xec\\xa0\\x95\\xec\\xa6\\x9d\\xea\\xb6\\x8c\\xeb\\x93\\xb1\\xea\\xb1\\xb0\\xeb\\x9e\\x98\\xea\\xb3\\x84\\xed\\x9a\\x8d\\xeb\\xb3\\xb4\\xea\\xb3\\xa0\\xec\\x84\\x9c\",\"rcept_no\":\"20250929000115\",\"flr_nm\":\"\\xed\\x94\\x84\\xeb\\xa1\\x9c\\xed\\x85\\x8d\",\"rcept_dt\":\"20250929\",\"rm\":\"\"},{\"corp_code\":\"01335453\",\"corp_name\":\"\\xec\\x98\\xa4\\xed\\x95\\x98\\xec\\x9e\\x84\\xec\\x95\\xa4\\xec\\xbb\\xb4\\xed\\x8d\\xbc\\xeb\\x8b\\x88\",\"stock_code\":\"309930\",\"corp_cls\":\"K\",\"report_nm\":\"\\xec\\x83\\x81\\xed\\x98\\xb8\\xeb\\xb3\\x80\\xea\\xb2\\xbd\\xec\\x95\\x88\\xeb\\x82\\xb4              \",\"rcept_no\":\"20250929900165\",\"flr_nm\":\"\\xec\\x98\\xa4\\xed\\x95\\x98\\xec\\x9e\\x84\\xec\\x95\\xa4\\xec\\xbb\\xb4\\xed\\x8d\\xbc\\xeb\\x8b\\x88\",\"rcept_dt\":\"20250929\",\"rm\":\"\\xec\\xbd\\x94\"},{\"corp_code\":\"01335453\",\"corp_name\":\"\\xec\\x98\\xa4\\xed\\x95\\x98\\xec\\x9e\\x84\\xec\\x95\\xa4\\xec\\xbb\\xb4\\xed\\x8d\\xbc\\xeb\\x8b\\x88\",\"stock_code\":\"309930\",\"corp_cls\":\"K\",\"report_nm\":\"\\xec\\x9e\\x84\\xec\\x8b\\x9c\\xec\\xa3\\xbc\\xec\\xa3\\xbc\\xec\\xb4\\x9d\\xed\\x9a\\x8c\\xea\\xb2\\xb0\\xea\\xb3\\xbc              \",\"rcept_no\":\"20250929900164\",\"flr_nm\":\"\\xec\\x98\\xa4\\xed\\x95\\x98\\xec\\x9e\\x84\\xec\\x95\\xa4\\xec\\xbb\\xb4\\xed\\x8d\\xbc\\xeb\\x8b\\x88\",\"rcept_dt\":\"20250929\",\"rm\":\"\\xec\\xbd\\x94\"},{\"corp_code\":\"01611441\",\"corp_name\":\"\\xeb\\x94\\x94\\xeb\\x94\\x94\\xec\\x95\\x84\\xec\\x9d\\xb4\\xec\\x98\\xa4\\xec\\x97\\x90\\xec\\x8a\\xa4108\\xec\\x9c\\x84\\xed\\x83\\x81\\xea\\xb4\\x80\\xeb\\xa6\\xac\\xeb\\xb6\\x80\\xeb\\x8f\\x99\\xec\\x82\\xb0\\xed\\x88\\xac\\xec\\x9e\\x90\\xed\\x9a\\x8c\\xec\\x82\\xac\",\"stock_code\":\"\",\"corp_cls\":\"E\",\"report_nm\":\"\\xea\\xb0\\x90\\xec\\x82\\xac\\xeb\\xb3\\xb4\\xea\\xb3\\xa0\\xec\\x84\\x9c (2025.06)\",\"rcept_no\":\"20250929000113\",\"flr_nm\":\"\\xec\\x9c\\xa4\\xec\\x84\\xb1\\xed\\x9a\\x8c\\xea\\xb3\\x84\\xeb\\xb2\\x95\\xec\\x9d\\xb8\",\"rcept_dt\":\"20250929\",\"rm\":\"\"},{\"corp_code\":\"00385363\",\"corp_name\":\"\\xeb\\xb9\\x85\\xed\\x85\\x8d\",\"stock_code\":\"065450\",\"corp_cls\":\"K\",\"report_nm\":\"[\\xea\\xb8\\xb0\\xec\\x9e\\xac\\xec\\xa0\\x95\\xec\\xa0\\x95]\\xeb\\x8b\\xa8\\xec\\x9d\\xbc\\xed\\x8c\\x90\\xeb\\xa7\\xa4\\xe3\\x86\\x8d\\xea\\xb3\\xb5\\xea\\xb8\\x89\\xea\\xb3\\x84\\xec\\x95\\xbd\\xec\\xb2\\xb4\\xea\\xb2\\xb0              \",\"rcept_no\":\"20250929900161\",\"flr_nm\":\"\\xeb\\xb9\\x85\\xed\\x85\\x8d\",\"rcept_dt\":\"20250929\",\"rm\":\"\\xec\\xbd\\x94\"}]}'"
      ]
     },
     "execution_count": 12,
     "metadata": {},
     "output_type": "execute_result"
    }
   ],
   "source": [
    "response.content"
   ]
  },
  {
   "cell_type": "code",
   "execution_count": 13,
   "metadata": {},
   "outputs": [],
   "source": [
    "with open('code.zip', 'wb') as f:  \n",
    "    f.write(response.content)"
   ]
  },
  {
   "cell_type": "code",
   "execution_count": null,
   "metadata": {},
   "outputs": [],
   "source": [
    "pd.read_excel('D:\\pandas-data-analysis\\part2\\code.zip')"
   ]
=======
>>>>>>> 492b8c55dc7632e22155f0ec3ceabdbea83d10ad
  }
 ],
 "metadata": {
  "colab": {
   "authorship_tag": "ABX9TyMmPDgPDlEQ9VJpxhthoipr",
   "provenance": []
  },
  "kernelspec": {
<<<<<<< HEAD
   "display_name": "Python 3",
   "language": "python",
   "name": "python3"
=======
   "display_name": "pandas",
   "language": "python",
   "name": "pandas"
>>>>>>> 492b8c55dc7632e22155f0ec3ceabdbea83d10ad
  },
  "language_info": {
   "codemirror_mode": {
    "name": "ipython",
    "version": 3
   },
   "file_extension": ".py",
   "mimetype": "text/x-python",
   "name": "python",
   "nbconvert_exporter": "python",
   "pygments_lexer": "ipython3",
<<<<<<< HEAD
   "version": "3.13.7"
=======
   "version": "3.10.13"
>>>>>>> 492b8c55dc7632e22155f0ec3ceabdbea83d10ad
  }
 },
 "nbformat": 4,
 "nbformat_minor": 4
}
