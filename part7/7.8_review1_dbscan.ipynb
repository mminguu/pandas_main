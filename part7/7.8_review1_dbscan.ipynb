{
 "cells": [
  {
   "cell_type": "markdown",
   "id": "0e8c08bd",
   "metadata": {},
   "source": [
    "DBSCAN  데이터의 밀도를 기반으로 군집을 형성\n",
    "\n",
    "데이터가 붐비는 정도를 파악해서 복잡한 모양의 군집을 찾고 노이즈를 구분\n",
    "\n",
    "군집에 속하지 않은 데이터를 구분하는데 효과적\n",
    "\n",
    "입실론 : 개별 데이터 포인트를 기준으로 반경을 나타내고 반경 안에 들어오면 이웃으로 함.\n",
    "\n",
    "최소점 : 하나의 점이 밀집지역의 중심으로 인정받기 위해 필요한 최소한의 이웃 데이터 개수 ( 자신을 포함 )"
   ]
  },
  {
   "cell_type": "code",
   "execution_count": 3,
   "id": "97a6a84b",
   "metadata": {},
   "outputs": [],
   "source": [
    "import numpy as np\n",
    "import matplotlib.pyplot as plt\n",
    "from sklearn.datasets import make_moons\n",
    "from sklearn.cluster import KMeans , DBSCAN"
   ]
  },
  {
   "cell_type": "code",
   "execution_count": null,
   "id": "7a91a876",
   "metadata": {},
   "outputs": [],
   "source": [
    "# 1. 초승달 모양의 샘플 데이터 생성\n",
    "x , y = make_moons(n_samples=200 , noise=0.05 , random_state=0)"
   ]
  },
  {
   "cell_type": "code",
   "execution_count": null,
   "id": "85410ec1",
   "metadata": {},
   "outputs": [],
   "source": [
    "# 2. 알고리즘 적용\n",
    "# k-Means (군집 개수 k=2로 지정)\n",
    "kmeans = KMeans(n_clusters=2 , random_state=0 , n_init=10)\n",
    "kmeans_labels = kmeans.fit_predict(x)"
   ]
  },
  {
   "cell_type": "code",
   "execution_count": null,
   "id": "354648a7",
   "metadata": {},
   "outputs": [],
   "source": [
    "# DBSCAN 적용\n",
    "dbscan = DBSCAN(eps=0.3 , min_samples=5)\n",
    "dbscan_label = dbscan.fit_predict(x)\n",
    "\n",
    "plt.title('DBSCAN Clustering')\n",
    "plt.tight_layout()\n",
    "plt.show()"
   ]
  },
  {
   "cell_type": "markdown",
   "id": "ebe1b946",
   "metadata": {},
   "source": [
    "#### 앙상블_랜덤포레스트\n",
    "\n",
    "'''\n",
    "각 모델의 오류를 예측하고 더 안정적이며 일반화 성능이 뛰어난 모델을 구축하기 위해 사용.\n",
    "\n",
    "랜덤포레스트는 대표적인 앙상블 기법 중 하나임.\n",
    "랜덤포레스트는 다수의 결정 트리를 생성ㅇ하고 결정 트리들의 예측 결과를 종합하여 최종 예측을 수행함.\n",
    "'''"
   ]
  },
  {
   "cell_type": "code",
   "execution_count": 7,
   "id": "3c6ac11b",
   "metadata": {},
   "outputs": [],
   "source": [
    "from sklearn.ensemble import RandomForestClassifier\n",
    "from sklearn.metrics import classification_report\n"
   ]
  },
  {
   "cell_type": "code",
   "execution_count": 9,
   "id": "71673052",
   "metadata": {},
   "outputs": [
    {
     "name": "stdout",
     "output_type": "stream",
     "text": [
      "Requirement already satisfied: ucimlrepo in c:\\users\\playdata\\appdata\\local\\programs\\python\\python313\\lib\\site-packages (0.0.7)\n",
      "Requirement already satisfied: pandas>=1.0.0 in c:\\users\\playdata\\appdata\\local\\programs\\python\\python313\\lib\\site-packages (from ucimlrepo) (2.3.2)\n",
      "Requirement already satisfied: certifi>=2020.12.5 in c:\\users\\playdata\\appdata\\local\\programs\\python\\python313\\lib\\site-packages (from ucimlrepo) (2025.8.3)\n",
      "Requirement already satisfied: numpy>=1.26.0 in c:\\users\\playdata\\appdata\\local\\programs\\python\\python313\\lib\\site-packages (from pandas>=1.0.0->ucimlrepo) (2.3.3)\n",
      "Requirement already satisfied: python-dateutil>=2.8.2 in c:\\users\\playdata\\appdata\\roaming\\python\\python313\\site-packages (from pandas>=1.0.0->ucimlrepo) (2.9.0.post0)\n",
      "Requirement already satisfied: pytz>=2020.1 in c:\\users\\playdata\\appdata\\local\\programs\\python\\python313\\lib\\site-packages (from pandas>=1.0.0->ucimlrepo) (2025.2)\n",
      "Requirement already satisfied: tzdata>=2022.7 in c:\\users\\playdata\\appdata\\local\\programs\\python\\python313\\lib\\site-packages (from pandas>=1.0.0->ucimlrepo) (2025.2)\n",
      "Requirement already satisfied: six>=1.5 in c:\\users\\playdata\\appdata\\roaming\\python\\python313\\site-packages (from python-dateutil>=2.8.2->pandas>=1.0.0->ucimlrepo) (1.17.0)\n",
      "Note: you may need to restart the kernel to use updated packages.\n"
     ]
    }
   ],
   "source": [
    "%pip install ucimlrepo"
   ]
  },
  {
   "cell_type": "code",
   "execution_count": null,
   "id": "a1c129c3",
   "metadata": {},
   "outputs": [],
   "source": [
    "from ucimlrepo import fetch_ucirepo \n",
    "  \n",
    "# fetch dataset \n",
    "wine_quality = fetch_ucirepo(id=186) \n",
    "  \n",
    "# data (as pandas dataframes) \n",
    "X = wine_quality.data.features \n",
    "y = wine_quality.data.targets \n",
    "\n",
    "\n"
   ]
  }
 ],
 "metadata": {
  "kernelspec": {
   "display_name": "Python 3",
   "language": "python",
   "name": "python3"
  },
  "language_info": {
   "codemirror_mode": {
    "name": "ipython",
    "version": 3
   },
   "file_extension": ".py",
   "mimetype": "text/x-python",
   "name": "python",
   "nbconvert_exporter": "python",
   "pygments_lexer": "ipython3",
   "version": "3.13.7"
  }
 },
 "nbformat": 4,
 "nbformat_minor": 5
}
